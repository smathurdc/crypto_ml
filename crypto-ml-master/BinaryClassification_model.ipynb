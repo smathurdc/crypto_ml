{
 "cells": [
  {
   "cell_type": "code",
   "execution_count": 1,
   "metadata": {},
   "outputs": [
    {
     "name": "stderr",
     "output_type": "stream",
     "text": [
      "C:\\Users\\mathus07\\AppData\\Local\\Continuum\\anaconda3\\lib\\site-packages\\statsmodels\\compat\\pandas.py:56: FutureWarning: The pandas.core.datetools module is deprecated and will be removed in a future version. Please use the pandas.tseries module instead.\n",
      "  from pandas.core import datetools\n",
      "C:\\Users\\mathus07\\AppData\\Local\\Continuum\\anaconda3\\lib\\site-packages\\h5py\\__init__.py:36: FutureWarning: Conversion of the second argument of issubdtype from `float` to `np.floating` is deprecated. In future, it will be treated as `np.float64 == np.dtype(float).type`.\n",
      "  from ._conv import register_converters as _register_converters\n",
      "Using TensorFlow backend.\n"
     ]
    }
   ],
   "source": [
    "import datetime\n",
    "import matplotlib.dates as mdates\n",
    "import matplotlib.pyplot as plt\n",
    "import numpy as np\n",
    "import pandas as pd\n",
    "import seaborn as sns\n",
    "import calendar\n",
    "from scipy import stats\n",
    "import sys\n",
    "\n",
    "from sklearn.preprocessing import MinMaxScaler\n",
    "from sklearn.decomposition import PCA\n",
    "from sklearn.linear_model import LogisticRegression\n",
    "from sklearn.linear_model import LogisticRegressionCV\n",
    "from sklearn.utils import resample\n",
    "from sklearn.model_selection import cross_val_score\n",
    "from sklearn.metrics import accuracy_score\n",
    "from sklearn.preprocessing import PolynomialFeatures\n",
    "from sklearn.linear_model import LassoCV\n",
    "from sklearn.decomposition import PCA\n",
    "from sklearn.model_selection import cross_val_score\n",
    "import sklearn.metrics as metrics\n",
    "from sklearn.discriminant_analysis import LinearDiscriminantAnalysis\n",
    "from sklearn.discriminant_analysis import QuadraticDiscriminantAnalysis\n",
    "from sklearn.tree import DecisionTreeClassifier\n",
    "from sklearn.ensemble import RandomForestClassifier\n",
    "from sklearn.ensemble import AdaBoostClassifier\n",
    "from sklearn import svm\n",
    "from sklearn.linear_model import LinearRegression\n",
    "from sklearn.neighbors import KNeighborsClassifier\n",
    "from sklearn.metrics import roc_curve, auc, roc_auc_score\n",
    "from sklearn.metrics import confusion_matrix\n",
    "import statsmodels.api as sm\n",
    "from sklearn.model_selection import KFold\n",
    "\n",
    "import keras\n",
    "from keras.models import Sequential\n",
    "from keras import layers\n",
    "from keras.utils import to_categorical\n",
    "from keras.layers import Dense, Dropout, Activation, LeakyReLU, PReLU \n",
    "from keras.optimizers import SGD, RMSprop, Adam\n",
    "from keras.callbacks import Callback, EarlyStopping, ModelCheckpoint\n",
    "from keras.regularizers import l2, l1\n",
    "from keras.layers import LSTM\n",
    "from keras.preprocessing.sequence import pad_sequences\n",
    "from keras.layers import TimeDistributed\n",
    "from keras.layers import RepeatVector\n",
    "\n",
    "import crypto_utils as crypu\n",
    "from eda_utils import *\n",
    "from create_models import *\n",
    "from model_utils import *\n",
    "\n",
    "\n",
    "import warnings\n",
    "warnings.filterwarnings('ignore')\n",
    "\n",
    "# define path to save model\n",
    "model_path = 'binary_model.h5'\n",
    "\n",
    "%matplotlib inline"
   ]
  },
  {
   "cell_type": "markdown",
   "metadata": {},
   "source": [
    "## Data Aggregation\n",
    "Aggregates data from different files relating to currency exchange, interest rates, stock market indicies, daily prices of Bitcoin, Litecoin from 04/2013 onwards.<br>\n",
    "Highly correlated predictors (abs(corr)>0.95) are removed.<br>\n",
    "Response Variable: Up/Down direction of Bitcoin the next day <br>"
   ]
  },
  {
   "cell_type": "code",
   "execution_count": 2,
   "metadata": {},
   "outputs": [
    {
     "data": {
      "text/html": [
       "<div>\n",
       "<style scoped>\n",
       "    .dataframe tbody tr th:only-of-type {\n",
       "        vertical-align: middle;\n",
       "    }\n",
       "\n",
       "    .dataframe tbody tr th {\n",
       "        vertical-align: top;\n",
       "    }\n",
       "\n",
       "    .dataframe thead th {\n",
       "        text-align: right;\n",
       "    }\n",
       "</style>\n",
       "<table border=\"1\" class=\"dataframe\">\n",
       "  <thead>\n",
       "    <tr style=\"text-align: right;\">\n",
       "      <th></th>\n",
       "      <th>BTC</th>\n",
       "      <th>LTC</th>\n",
       "      <th>DCOILWTICO</th>\n",
       "      <th>DHHNGSP</th>\n",
       "      <th>GOLDPMGBD228NLBM</th>\n",
       "      <th>DTWEXB</th>\n",
       "      <th>DEXUSEU</th>\n",
       "      <th>DEXUSUK</th>\n",
       "      <th>DEXCHUS</th>\n",
       "      <th>T10YIE</th>\n",
       "      <th>...</th>\n",
       "      <th>OVXCLS</th>\n",
       "      <th>GVZCLS</th>\n",
       "      <th>VXNCLS</th>\n",
       "      <th>VXSLVCLS</th>\n",
       "      <th>VXGSCLS</th>\n",
       "      <th>EVZCLS</th>\n",
       "      <th>VXFXICLS</th>\n",
       "      <th>VXEWZCLS</th>\n",
       "      <th>NIKKEI225</th>\n",
       "      <th>y</th>\n",
       "    </tr>\n",
       "  </thead>\n",
       "  <tbody>\n",
       "    <tr>\n",
       "      <th>0</th>\n",
       "      <td>144.54</td>\n",
       "      <td>4.38</td>\n",
       "      <td>94.09</td>\n",
       "      <td>4.28</td>\n",
       "      <td>1467.50</td>\n",
       "      <td>99.7738</td>\n",
       "      <td>1.3090</td>\n",
       "      <td>1.5497</td>\n",
       "      <td>6.1647</td>\n",
       "      <td>2.37</td>\n",
       "      <td>...</td>\n",
       "      <td>23.44</td>\n",
       "      <td>23.16</td>\n",
       "      <td>15.32</td>\n",
       "      <td>35.48</td>\n",
       "      <td>24.87</td>\n",
       "      <td>8.67</td>\n",
       "      <td>22.70</td>\n",
       "      <td>20.41</td>\n",
       "      <td>13860.86</td>\n",
       "      <td>0</td>\n",
       "    </tr>\n",
       "    <tr>\n",
       "      <th>1</th>\n",
       "      <td>139.00</td>\n",
       "      <td>4.30</td>\n",
       "      <td>93.22</td>\n",
       "      <td>4.30</td>\n",
       "      <td>1469.00</td>\n",
       "      <td>99.5103</td>\n",
       "      <td>1.3168</td>\n",
       "      <td>1.5539</td>\n",
       "      <td>6.1647</td>\n",
       "      <td>2.34</td>\n",
       "      <td>...</td>\n",
       "      <td>24.57</td>\n",
       "      <td>22.09</td>\n",
       "      <td>15.34</td>\n",
       "      <td>34.29</td>\n",
       "      <td>24.76</td>\n",
       "      <td>8.68</td>\n",
       "      <td>21.93</td>\n",
       "      <td>20.02</td>\n",
       "      <td>13860.86</td>\n",
       "      <td>0</td>\n",
       "    </tr>\n",
       "    <tr>\n",
       "      <th>2</th>\n",
       "      <td>116.99</td>\n",
       "      <td>3.80</td>\n",
       "      <td>90.74</td>\n",
       "      <td>4.31</td>\n",
       "      <td>1454.75</td>\n",
       "      <td>99.5764</td>\n",
       "      <td>1.3192</td>\n",
       "      <td>1.5578</td>\n",
       "      <td>6.1647</td>\n",
       "      <td>2.30</td>\n",
       "      <td>...</td>\n",
       "      <td>26.68</td>\n",
       "      <td>22.93</td>\n",
       "      <td>16.00</td>\n",
       "      <td>36.62</td>\n",
       "      <td>25.83</td>\n",
       "      <td>8.73</td>\n",
       "      <td>23.28</td>\n",
       "      <td>20.98</td>\n",
       "      <td>13799.35</td>\n",
       "      <td>0</td>\n",
       "    </tr>\n",
       "    <tr>\n",
       "      <th>3</th>\n",
       "      <td>105.21</td>\n",
       "      <td>3.37</td>\n",
       "      <td>93.70</td>\n",
       "      <td>4.28</td>\n",
       "      <td>1469.25</td>\n",
       "      <td>99.7497</td>\n",
       "      <td>1.3066</td>\n",
       "      <td>1.5519</td>\n",
       "      <td>6.1560</td>\n",
       "      <td>2.28</td>\n",
       "      <td>...</td>\n",
       "      <td>24.49</td>\n",
       "      <td>22.06</td>\n",
       "      <td>15.19</td>\n",
       "      <td>33.73</td>\n",
       "      <td>24.43</td>\n",
       "      <td>8.75</td>\n",
       "      <td>22.66</td>\n",
       "      <td>20.74</td>\n",
       "      <td>13694.04</td>\n",
       "      <td>0</td>\n",
       "    </tr>\n",
       "    <tr>\n",
       "      <th>4</th>\n",
       "      <td>97.75</td>\n",
       "      <td>3.04</td>\n",
       "      <td>95.25</td>\n",
       "      <td>3.98</td>\n",
       "      <td>1469.25</td>\n",
       "      <td>99.6402</td>\n",
       "      <td>1.3112</td>\n",
       "      <td>1.5563</td>\n",
       "      <td>6.1555</td>\n",
       "      <td>2.31</td>\n",
       "      <td>...</td>\n",
       "      <td>24.01</td>\n",
       "      <td>20.37</td>\n",
       "      <td>14.66</td>\n",
       "      <td>32.09</td>\n",
       "      <td>25.68</td>\n",
       "      <td>7.99</td>\n",
       "      <td>21.61</td>\n",
       "      <td>20.22</td>\n",
       "      <td>13694.04</td>\n",
       "      <td>1</td>\n",
       "    </tr>\n",
       "  </tbody>\n",
       "</table>\n",
       "<p>5 rows × 26 columns</p>\n",
       "</div>"
      ],
      "text/plain": [
       "      BTC   LTC  DCOILWTICO  DHHNGSP  GOLDPMGBD228NLBM   DTWEXB  DEXUSEU  \\\n",
       "0  144.54  4.38       94.09     4.28           1467.50  99.7738   1.3090   \n",
       "1  139.00  4.30       93.22     4.30           1469.00  99.5103   1.3168   \n",
       "2  116.99  3.80       90.74     4.31           1454.75  99.5764   1.3192   \n",
       "3  105.21  3.37       93.70     4.28           1469.25  99.7497   1.3066   \n",
       "4   97.75  3.04       95.25     3.98           1469.25  99.6402   1.3112   \n",
       "\n",
       "   DEXUSUK  DEXCHUS  T10YIE ...  OVXCLS  GVZCLS  VXNCLS  VXSLVCLS  VXGSCLS  \\\n",
       "0   1.5497   6.1647    2.37 ...   23.44   23.16   15.32     35.48    24.87   \n",
       "1   1.5539   6.1647    2.34 ...   24.57   22.09   15.34     34.29    24.76   \n",
       "2   1.5578   6.1647    2.30 ...   26.68   22.93   16.00     36.62    25.83   \n",
       "3   1.5519   6.1560    2.28 ...   24.49   22.06   15.19     33.73    24.43   \n",
       "4   1.5563   6.1555    2.31 ...   24.01   20.37   14.66     32.09    25.68   \n",
       "\n",
       "   EVZCLS  VXFXICLS  VXEWZCLS  NIKKEI225  y  \n",
       "0    8.67     22.70     20.41   13860.86  0  \n",
       "1    8.68     21.93     20.02   13860.86  0  \n",
       "2    8.73     23.28     20.98   13799.35  0  \n",
       "3    8.75     22.66     20.74   13694.04  0  \n",
       "4    7.99     21.61     20.22   13694.04  1  \n",
       "\n",
       "[5 rows x 26 columns]"
      ]
     },
     "execution_count": 2,
     "metadata": {},
     "output_type": "execute_result"
    }
   ],
   "source": [
    "p = prepare_data(\"./data/file_info.csv\")\n",
    "p.head()"
   ]
  },
  {
   "cell_type": "markdown",
   "metadata": {},
   "source": [
    "## Data Normalization\n",
    "Min-Max normalization within rolling windows is done<br>\n",
    "The test set performance is recorded across different sizes of rolling windows <br>"
   ]
  },
  {
   "cell_type": "code",
   "execution_count": 3,
   "metadata": {},
   "outputs": [],
   "source": [
    "k = pd.DataFrame()\n",
    "for i in range(2,20,1):\n",
    "    df = data_normalization(p,'min-max_rw',i)\n",
    "    (X_train,X_test,y_train,y_test) = split_data(df,0.9)\n",
    "    x = traditional_models(X_train, y_train, X_test, y_test)\n",
    "    c = 'wd_'+str(i)\n",
    "    k[c] = x['AUC'].tolist()\n",
    "    k.index = x.index\n",
    "    \n",
    "    "
   ]
  },
  {
   "cell_type": "markdown",
   "metadata": {},
   "source": [
    "### MinMax within Rolling Window\n",
    "Plotting the AUC for different machine learning algorithms"
   ]
  },
  {
   "cell_type": "code",
   "execution_count": 5,
   "metadata": {},
   "outputs": [
    {
     "data": {
      "image/png": "[encoded data removed]",
      "text/plain": [
       "<matplotlib.figure.Figure at 0x1e00689ac88>"
      ]
     },
     "metadata": {},
     "output_type": "display_data"
    }
   ],
   "source": [
    "\n",
    "f = plt.figure(figsize=(12,5))\n",
    "plt.title('Title here!', color='black')\n",
    "k.plot(kind='bar',x=k.index, ax=f.gca())\n",
    "plt.legend(loc='center left', bbox_to_anchor=(1.0, 0.5))\n",
    "plt.show()"
   ]
  },
  {
   "cell_type": "markdown",
   "metadata": {},
   "source": [
    "Using window width of 11 as it gives the best performance"
   ]
  },
  {
   "cell_type": "code",
   "execution_count": 6,
   "metadata": {},
   "outputs": [
    {
     "data": {
      "text/html": [
       "<div>\n",
       "<style scoped>\n",
       "    .dataframe tbody tr th:only-of-type {\n",
       "        vertical-align: middle;\n",
       "    }\n",
       "\n",
       "    .dataframe tbody tr th {\n",
       "        vertical-align: top;\n",
       "    }\n",
       "\n",
       "    .dataframe thead th {\n",
       "        text-align: right;\n",
       "    }\n",
       "</style>\n",
       "<table border=\"1\" class=\"dataframe\">\n",
       "  <thead>\n",
       "    <tr style=\"text-align: right;\">\n",
       "      <th></th>\n",
       "      <th>AUC</th>\n",
       "      <th>Accuracy</th>\n",
       "    </tr>\n",
       "  </thead>\n",
       "  <tbody>\n",
       "    <tr>\n",
       "      <th>LogReg</th>\n",
       "      <td>0.503270</td>\n",
       "      <td>0.585938</td>\n",
       "    </tr>\n",
       "    <tr>\n",
       "      <th>KNN</th>\n",
       "      <td>0.498616</td>\n",
       "      <td>0.531250</td>\n",
       "    </tr>\n",
       "    <tr>\n",
       "      <th>LDA</th>\n",
       "      <td>0.540377</td>\n",
       "      <td>0.546875</td>\n",
       "    </tr>\n",
       "    <tr>\n",
       "      <th>QDA</th>\n",
       "      <td>0.613333</td>\n",
       "      <td>0.617188</td>\n",
       "    </tr>\n",
       "    <tr>\n",
       "      <th>RandomForest</th>\n",
       "      <td>0.417736</td>\n",
       "      <td>0.406250</td>\n",
       "    </tr>\n",
       "    <tr>\n",
       "      <th>ADABoost</th>\n",
       "      <td>0.605535</td>\n",
       "      <td>0.593750</td>\n",
       "    </tr>\n",
       "    <tr>\n",
       "      <th>SVM</th>\n",
       "      <td>0.502390</td>\n",
       "      <td>0.585938</td>\n",
       "    </tr>\n",
       "  </tbody>\n",
       "</table>\n",
       "</div>"
      ],
      "text/plain": [
       "                   AUC  Accuracy\n",
       "LogReg        0.503270  0.585938\n",
       "KNN           0.498616  0.531250\n",
       "LDA           0.540377  0.546875\n",
       "QDA           0.613333  0.617188\n",
       "RandomForest  0.417736  0.406250\n",
       "ADABoost      0.605535  0.593750\n",
       "SVM           0.502390  0.585938"
      ]
     },
     "execution_count": 6,
     "metadata": {},
     "output_type": "execute_result"
    }
   ],
   "source": [
    "df = data_normalization(p,'min-max_rw',11)\n",
    "(X_train,X_test,y_train,y_test) = split_data(df,0.9)\n",
    "x = traditional_models(X_train, y_train, X_test, y_test)\n",
    "x"
   ]
  },
  {
   "cell_type": "markdown",
   "metadata": {},
   "source": [
    "QDA and AdaBoost achieve 60-61% accuracy/AUC"
   ]
  },
  {
   "cell_type": "markdown",
   "metadata": {},
   "source": [
    "## Comparison with other normalization scheme\n",
    "A comparison is done using MinMax without using rolling windows <br>\n",
    "Standardization across the dataset or standardization across rolling windows was also compared with MinMax rolling window, with MinMax rolling window outperforming the rest"
   ]
  },
  {
   "cell_type": "markdown",
   "metadata": {},
   "source": [
    "### Using Min-Max\n",
    "Using MinMax without rolling window"
   ]
  },
  {
   "cell_type": "code",
   "execution_count": 7,
   "metadata": {},
   "outputs": [
    {
     "data": {
      "text/html": [
       "<div>\n",
       "<style scoped>\n",
       "    .dataframe tbody tr th:only-of-type {\n",
       "        vertical-align: middle;\n",
       "    }\n",
       "\n",
       "    .dataframe tbody tr th {\n",
       "        vertical-align: top;\n",
       "    }\n",
       "\n",
       "    .dataframe thead th {\n",
       "        text-align: right;\n",
       "    }\n",
       "</style>\n",
       "<table border=\"1\" class=\"dataframe\">\n",
       "  <thead>\n",
       "    <tr style=\"text-align: right;\">\n",
       "      <th></th>\n",
       "      <th>AUC</th>\n",
       "      <th>Accuracy</th>\n",
       "    </tr>\n",
       "  </thead>\n",
       "  <tbody>\n",
       "    <tr>\n",
       "      <th>LogReg</th>\n",
       "      <td>0.435824</td>\n",
       "      <td>0.589147</td>\n",
       "    </tr>\n",
       "    <tr>\n",
       "      <th>KNN</th>\n",
       "      <td>0.450348</td>\n",
       "      <td>0.589147</td>\n",
       "    </tr>\n",
       "    <tr>\n",
       "      <th>LDA</th>\n",
       "      <td>0.615690</td>\n",
       "      <td>0.410853</td>\n",
       "    </tr>\n",
       "    <tr>\n",
       "      <th>QDA</th>\n",
       "      <td>0.601043</td>\n",
       "      <td>0.426357</td>\n",
       "    </tr>\n",
       "    <tr>\n",
       "      <th>RandomForest</th>\n",
       "      <td>0.454568</td>\n",
       "      <td>0.449612</td>\n",
       "    </tr>\n",
       "    <tr>\n",
       "      <th>ADABoost</th>\n",
       "      <td>0.544191</td>\n",
       "      <td>0.589147</td>\n",
       "    </tr>\n",
       "    <tr>\n",
       "      <th>SVM</th>\n",
       "      <td>0.629096</td>\n",
       "      <td>0.558140</td>\n",
       "    </tr>\n",
       "  </tbody>\n",
       "</table>\n",
       "</div>"
      ],
      "text/plain": [
       "                   AUC  Accuracy\n",
       "LogReg        0.435824  0.589147\n",
       "KNN           0.450348  0.589147\n",
       "LDA           0.615690  0.410853\n",
       "QDA           0.601043  0.426357\n",
       "RandomForest  0.454568  0.449612\n",
       "ADABoost      0.544191  0.589147\n",
       "SVM           0.629096  0.558140"
      ]
     },
     "execution_count": 7,
     "metadata": {},
     "output_type": "execute_result"
    }
   ],
   "source": [
    "#Using Min-Max\n",
    "df = data_normalization(p,'min-max')\n",
    "(X_train,X_test,y_train,y_test) = split_data(df,0.9)\n",
    "df_minmax = traditional_models(X_train, y_train, X_test, y_test)\n",
    "df_minmax"
   ]
  },
  {
   "cell_type": "markdown",
   "metadata": {},
   "source": [
    "SVM achieves a 62% AUC on the test set"
   ]
  },
  {
   "cell_type": "markdown",
   "metadata": {},
   "source": [
    "### PCA\n",
    "Using PCA"
   ]
  },
  {
   "cell_type": "code",
   "execution_count": 8,
   "metadata": {},
   "outputs": [
    {
     "data": {
      "text/html": [
       "<div>\n",
       "<style scoped>\n",
       "    .dataframe tbody tr th:only-of-type {\n",
       "        vertical-align: middle;\n",
       "    }\n",
       "\n",
       "    .dataframe tbody tr th {\n",
       "        vertical-align: top;\n",
       "    }\n",
       "\n",
       "    .dataframe thead th {\n",
       "        text-align: right;\n",
       "    }\n",
       "</style>\n",
       "<table border=\"1\" class=\"dataframe\">\n",
       "  <thead>\n",
       "    <tr style=\"text-align: right;\">\n",
       "      <th></th>\n",
       "      <th>AUC</th>\n",
       "      <th>Accuracy</th>\n",
       "    </tr>\n",
       "  </thead>\n",
       "  <tbody>\n",
       "    <tr>\n",
       "      <th>LogReg</th>\n",
       "      <td>0.588381</td>\n",
       "      <td>0.589147</td>\n",
       "    </tr>\n",
       "    <tr>\n",
       "      <th>KNN</th>\n",
       "      <td>0.594464</td>\n",
       "      <td>0.573643</td>\n",
       "    </tr>\n",
       "    <tr>\n",
       "      <th>LDA</th>\n",
       "      <td>0.623138</td>\n",
       "      <td>0.612403</td>\n",
       "    </tr>\n",
       "    <tr>\n",
       "      <th>QDA</th>\n",
       "      <td>0.593347</td>\n",
       "      <td>0.550388</td>\n",
       "    </tr>\n",
       "    <tr>\n",
       "      <th>RandomForest</th>\n",
       "      <td>0.456802</td>\n",
       "      <td>0.480620</td>\n",
       "    </tr>\n",
       "    <tr>\n",
       "      <th>ADABoost</th>\n",
       "      <td>0.548411</td>\n",
       "      <td>0.511628</td>\n",
       "    </tr>\n",
       "    <tr>\n",
       "      <th>SVM</th>\n",
       "      <td>0.578203</td>\n",
       "      <td>0.565891</td>\n",
       "    </tr>\n",
       "  </tbody>\n",
       "</table>\n",
       "</div>"
      ],
      "text/plain": [
       "                   AUC  Accuracy\n",
       "LogReg        0.588381  0.589147\n",
       "KNN           0.594464  0.573643\n",
       "LDA           0.623138  0.612403\n",
       "QDA           0.593347  0.550388\n",
       "RandomForest  0.456802  0.480620\n",
       "ADABoost      0.548411  0.511628\n",
       "SVM           0.578203  0.565891"
      ]
     },
     "execution_count": 8,
     "metadata": {},
     "output_type": "execute_result"
    }
   ],
   "source": [
    "\n",
    "df = data_normalization(p,'min-max')\n",
    "(X_train,X_test,y_train,y_test) = split_data(df,0.9)\n",
    "pca = PCA(n_components=5)\n",
    "X_train_pca = pca.fit(X_train).transform(X_train)\n",
    "X_test_pca = pca.fit(X_test).transform(X_test)\n",
    "res_pca = traditional_models(X_train_pca,y_train,X_test_pca,y_test)\n",
    "res_pca"
   ]
  },
  {
   "cell_type": "markdown",
   "metadata": {},
   "source": [
    "## Neural network based approach\n",
    "Used feed forward and LSTM.<br>\n",
    "Used different number of layers for iteration with MinMax normalization across varios window sizes"
   ]
  },
  {
   "cell_type": "code",
   "execution_count": 48,
   "metadata": {},
   "outputs": [],
   "source": [
    "##Feedforward Model\n",
    "def make_model(num_nodes,num_layers,batch_size,epch,train_set,y_train,test_set,y_test):\n",
    "    num_layers = num_layers-1\n",
    "    model = Sequential()\n",
    "    model.add(Dense(num_nodes, input_dim=train_set.shape[1], activation='relu'))\n",
    "    for i in range(num_layers):\n",
    "        model.add(Dense(num_nodes, activation='relu'))\n",
    "    model.add(Dense(1, activation='sigmoid'))\n",
    "    model.compile(optimizer=Adam(lr=0.001), loss='binary_crossentropy', metrics=['accuracy'])\n",
    "    #p = model.fit(train_set, y_train,  epochs=epch, batch_size=batch_size, validation_data=(test_set, y_test),verbose=False)\n",
    "    return model"
   ]
  },
  {
   "cell_type": "code",
   "execution_count": 49,
   "metadata": {},
   "outputs": [],
   "source": [
    "#Feedforward NN\n",
    "#Using rolling-window normalization\n",
    "window = 11\n",
    "df = data_normalization(p,'min-max_rw',window)\n",
    "(X_train,X_test,y_train,y_test) = split_data(df,0.9)\n",
    "train_set = X_train.as_matrix()\n",
    "test_set = X_test.as_matrix()\n",
    "\n",
    "x = make_model(50,4,32,250,train_set,y_train,test_set,y_test)\n",
    "history = x.fit(train_set,y_train,epochs=100, validation_data=(test_set, y_test), verbose=False,\n",
    "      callbacks = [keras.callbacks.EarlyStopping(monitor='val_loss', min_delta=0.1, patience=20, verbose=0, mode='min'),\n",
    "                   keras.callbacks.ModelCheckpoint(model_path,monitor='val_loss', save_best_only=True, mode='min', verbose=0)]\n",
    "     )"
   ]
  },
  {
   "cell_type": "code",
   "execution_count": 50,
   "metadata": {},
   "outputs": [
    {
     "data": {
      "text/plain": [
       "<matplotlib.legend.Legend at 0x1e021269e80>"
      ]
     },
     "execution_count": 50,
     "metadata": {},
     "output_type": "execute_result"
    },
    {
     "data": {
      "image/png": "[encoded data removed]",
      "text/plain": [
       "<matplotlib.figure.Figure at 0x1e01ca91c88>"
      ]
     },
     "metadata": {},
     "output_type": "display_data"
    }
   ],
   "source": [
    "plt.plot(history.history['acc'],label='training')\n",
    "plt.plot(history.history['val_acc'],label='test')\n",
    "plt.title(\"NN Feed Forward\")\n",
    "plt.xlabel('Accuracy')\n",
    "plt.ylabel('Epochs')\n",
    "plt.legend()"
   ]
  },
  {
   "cell_type": "code",
   "execution_count": 56,
   "metadata": {},
   "outputs": [
    {
     "data": {
      "text/plain": [
       "0.500125786163522"
      ]
     },
     "execution_count": 56,
     "metadata": {},
     "output_type": "execute_result"
    }
   ],
   "source": [
    "y_pred = x.predict_proba(X_test)\n",
    "roc_auc_score(y_test, y_pred)"
   ]
  },
  {
   "cell_type": "markdown",
   "metadata": {},
   "source": [
    "### LSTM\n",
    "MinMax and standardization within varios window sizes was tried<br>\n",
    "Used parameters that achieved maximum accuracy"
   ]
  },
  {
   "cell_type": "code",
   "execution_count": 59,
   "metadata": {},
   "outputs": [],
   "source": [
    "#LSTM\n",
    "#Min-Max rolling window\n",
    "def gen_sequence(id_df, seq_length, seq_cols):\n",
    "    scaler = MinMaxScaler()\n",
    "    data_matrix = id_df[seq_cols].values\n",
    "    enc_x = np.zeros((len(id_df)-seq_length+1, seq_length, len(seq_cols)))\n",
    "    num_elements = id_df.shape[0]\n",
    "    for start, stop in zip(range(0, num_elements-seq_length+1), range(seq_length, num_elements+1)):\n",
    "        enc_x[start] = scaler.fit_transform(data_matrix[start:stop, :])\n",
    "        #Try standardizing\n",
    "        #x = data_matrix[start:stop, :]\n",
    "        #enc_x[start] = (x - x.mean()) / (x.max() - x.min())\n",
    "    \n",
    "    return enc_x"
   ]
  },
  {
   "cell_type": "code",
   "execution_count": 73,
   "metadata": {},
   "outputs": [
    {
     "name": "stdout",
     "output_type": "stream",
     "text": [
      "Training Set\n",
      "(1156, 2, 25)\n",
      "(1156, 1)\n",
      "Test Set\n",
      "(129, 2, 25)\n",
      "(129, 1)\n"
     ]
    }
   ],
   "source": [
    "sequence_length = 2\n",
    "c = p.columns.tolist()\n",
    "c.remove('y')\n",
    "seq_cols = c\n",
    "X_dat = gen_sequence(p, sequence_length, seq_cols)\n",
    "y = p['y'].values.reshape(-1,1)\n",
    "y_dat = y[sequence_length-1:,]\n",
    "\n",
    "#90% for training and 10% for testing\n",
    "prop = 0.9\n",
    "lm = int(np.floor(len(X_dat) * prop))\n",
    "X_train = X_dat[0:lm]\n",
    "y_train = y_dat[0:lm]\n",
    "X_test = X_dat[lm:]\n",
    "y_test = y_dat[lm:]\n",
    "print(\"Training Set\")\n",
    "print(X_train.shape)\n",
    "print(y_train.shape)\n",
    "print(\"Test Set\")\n",
    "print(X_test.shape)\n",
    "print(y_test.shape)"
   ]
  },
  {
   "cell_type": "code",
   "execution_count": 77,
   "metadata": {},
   "outputs": [
    {
     "name": "stdout",
     "output_type": "stream",
     "text": [
      "_________________________________________________________________\n",
      "Layer (type)                 Output Shape              Param #   \n",
      "=================================================================\n",
      "lstm_22 (LSTM)               (None, 2, 10)             1440      \n",
      "_________________________________________________________________\n",
      "dropout_22 (Dropout)         (None, 2, 10)             0         \n",
      "_________________________________________________________________\n",
      "lstm_23 (LSTM)               (None, 2, 50)             12200     \n",
      "_________________________________________________________________\n",
      "dropout_23 (Dropout)         (None, 2, 50)             0         \n",
      "_________________________________________________________________\n",
      "lstm_24 (LSTM)               (None, 50)                20200     \n",
      "_________________________________________________________________\n",
      "dropout_24 (Dropout)         (None, 50)                0         \n",
      "_________________________________________________________________\n",
      "dense_18 (Dense)             (None, 1)                 51        \n",
      "=================================================================\n",
      "Total params: 33,891\n",
      "Trainable params: 33,891\n",
      "Non-trainable params: 0\n",
      "_________________________________________________________________\n",
      "None\n"
     ]
    }
   ],
   "source": [
    "nb_features = X_train.shape[2]\n",
    "nb_out = y_train.shape[1]\n",
    "\n",
    "model = Sequential()\n",
    "\n",
    "model.add(LSTM(\n",
    "         input_shape=(sequence_length, nb_features),\n",
    "         units=10,\n",
    "         return_sequences=True))\n",
    "model.add(Dropout(0.2))\n",
    "\n",
    "model.add(LSTM(\n",
    "          units=50,\n",
    "          return_sequences=True))\n",
    "model.add(Dropout(0.2))\n",
    "\n",
    "model.add(LSTM(\n",
    "          units=50,\n",
    "          return_sequences=False))\n",
    "model.add(Dropout(0.2))\n",
    "\n",
    "#model.add(TimeDistributed(Dense(units=nb_out, activation='sigmoid')))\n",
    "model.add(Dense(units=nb_out, activation='sigmoid'))\n",
    "model.compile(loss='binary_crossentropy', optimizer='adam', metrics=['accuracy'])\n",
    "\n",
    "print(model.summary())\n",
    "\n"
   ]
  },
  {
   "cell_type": "code",
   "execution_count": 78,
   "metadata": {},
   "outputs": [
    {
     "name": "stdout",
     "output_type": "stream",
     "text": [
      "Train on 1040 samples, validate on 116 samples\n",
      "Epoch 1/100\n",
      " - 3s - loss: 0.6928 - acc: 0.5058 - val_loss: 0.6886 - val_acc: 0.5948\n",
      "Epoch 2/100\n",
      " - 0s - loss: 0.6911 - acc: 0.5346 - val_loss: 0.6839 - val_acc: 0.5948\n",
      "Epoch 3/100\n",
      " - 0s - loss: 0.6904 - acc: 0.5346 - val_loss: 0.6821 - val_acc: 0.5948\n",
      "Epoch 4/100\n",
      " - 0s - loss: 0.6897 - acc: 0.5346 - val_loss: 0.6797 - val_acc: 0.5948\n",
      "Epoch 5/100\n",
      " - 0s - loss: 0.6903 - acc: 0.5346 - val_loss: 0.6794 - val_acc: 0.5948\n",
      "Epoch 6/100\n",
      " - 0s - loss: 0.6895 - acc: 0.5346 - val_loss: 0.6752 - val_acc: 0.5948\n",
      "Epoch 7/100\n",
      " - 0s - loss: 0.6880 - acc: 0.5317 - val_loss: 0.6773 - val_acc: 0.5948\n",
      "Epoch 8/100\n",
      " - 0s - loss: 0.6836 - acc: 0.5452 - val_loss: 0.6708 - val_acc: 0.5862\n",
      "Epoch 9/100\n",
      " - 0s - loss: 0.6814 - acc: 0.5615 - val_loss: 0.6655 - val_acc: 0.5948\n",
      "Epoch 10/100\n",
      " - 0s - loss: 0.6777 - acc: 0.5490 - val_loss: 0.6642 - val_acc: 0.6034\n",
      "Epoch 11/100\n",
      " - 0s - loss: 0.6722 - acc: 0.5721 - val_loss: 0.6785 - val_acc: 0.5690\n",
      "Epoch 12/100\n",
      " - 0s - loss: 0.6744 - acc: 0.5702 - val_loss: 0.6647 - val_acc: 0.6034\n",
      "Epoch 13/100\n",
      " - 0s - loss: 0.6684 - acc: 0.5885 - val_loss: 0.6635 - val_acc: 0.5948\n",
      "Epoch 14/100\n",
      " - 0s - loss: 0.6685 - acc: 0.5942 - val_loss: 0.6707 - val_acc: 0.5776\n",
      "Epoch 15/100\n",
      " - 0s - loss: 0.6697 - acc: 0.5769 - val_loss: 0.6605 - val_acc: 0.6034\n",
      "Epoch 16/100\n",
      " - 0s - loss: 0.6700 - acc: 0.5885 - val_loss: 0.6653 - val_acc: 0.5948\n",
      "Epoch 17/100\n",
      " - 0s - loss: 0.6663 - acc: 0.5865 - val_loss: 0.6658 - val_acc: 0.6034\n",
      "Epoch 18/100\n",
      " - 0s - loss: 0.6680 - acc: 0.5894 - val_loss: 0.6696 - val_acc: 0.5690\n",
      "Epoch 19/100\n",
      " - 0s - loss: 0.6604 - acc: 0.6115 - val_loss: 0.6837 - val_acc: 0.5345\n",
      "Epoch 20/100\n",
      " - 0s - loss: 0.6631 - acc: 0.5904 - val_loss: 0.6682 - val_acc: 0.6034\n",
      "Epoch 21/100\n",
      " - 0s - loss: 0.6586 - acc: 0.5952 - val_loss: 0.6732 - val_acc: 0.5862\n"
     ]
    }
   ],
   "source": [
    "# fit the network\n",
    "history = model.fit(X_train, y_train, epochs=100, validation_split=0.1, verbose=2,\n",
    "          callbacks = [keras.callbacks.EarlyStopping(monitor='val_loss', min_delta=0.1, patience=20, verbose=0, mode='min'),\n",
    "                       keras.callbacks.ModelCheckpoint(model_path,monitor='val_loss', save_best_only=True, mode='min', verbose=0)]\n",
    "          )\n"
   ]
  },
  {
   "cell_type": "code",
   "execution_count": 79,
   "metadata": {},
   "outputs": [
    {
     "data": {
      "text/plain": [
       "<matplotlib.legend.Legend at 0x1e02be98518>"
      ]
     },
     "execution_count": 79,
     "metadata": {},
     "output_type": "execute_result"
    },
    {
     "data": {
      "image/png": "[encoded data removed]",
      "text/plain": [
       "<matplotlib.figure.Figure at 0x1e029fa1c50>"
      ]
     },
     "metadata": {},
     "output_type": "display_data"
    }
   ],
   "source": [
    "plt.plot(history.history['acc'],label='training')\n",
    "plt.plot(history.history['val_acc'],label='test')\n",
    "plt.title(\"NN LSTM\")\n",
    "plt.xlabel('Accuracy')\n",
    "plt.ylabel('Epochs')\n",
    "plt.legend()"
   ]
  },
  {
   "cell_type": "code",
   "execution_count": 84,
   "metadata": {},
   "outputs": [
    {
     "name": "stdout",
     "output_type": "stream",
     "text": [
      "0.42266633565044687\n",
      "[[19 34]\n",
      " [39 37]]\n"
     ]
    }
   ],
   "source": [
    "y_pred = model.predict_classes(X_test)\n",
    "print(roc_auc_score(y_test, y_pred))\n",
    "cm = confusion_matrix(y_test, y_pred)\n",
    "print(cm)"
   ]
  },
  {
   "cell_type": "markdown",
   "metadata": {},
   "source": [
    "## Creating Strong Buy/Sell Signals\n",
    "Using the thresholds of the prediction probability, we can pick the signals that are extreme and choose to trade only on those days <br>\n",
    "Using AdaBoost with a MinMax on 11 day rolling window"
   ]
  },
  {
   "cell_type": "code",
   "execution_count": 35,
   "metadata": {},
   "outputs": [
    {
     "data": {
      "text/plain": [
       "AdaBoostClassifier(algorithm='SAMME.R',\n",
       "          base_estimator=DecisionTreeClassifier(class_weight=None, criterion='gini', max_depth=1.0,\n",
       "            max_features=None, max_leaf_nodes=None,\n",
       "            min_impurity_decrease=0.0, min_impurity_split=None,\n",
       "            min_samples_leaf=1, min_samples_split=2,\n",
       "            min_weight_fraction_leaf=0.0, presort=False, random_state=None,\n",
       "            splitter='best'),\n",
       "          learning_rate=0.05, n_estimators=64, random_state=None)"
      ]
     },
     "execution_count": 35,
     "metadata": {},
     "output_type": "execute_result"
    }
   ],
   "source": [
    "df = data_normalization(p,'min-max_rw',11)\n",
    "(X_train,X_test,y_train,y_test) = split_data(df,0.9)\n",
    "td = [1, 2]\n",
    "trees = [2 ** x for x in range(1, 8)]\n",
    "param_grid = {\"n_estimators\": trees,\n",
    "              \"max_depth\": td,\n",
    "              \"learning_rate\": [0.05]\n",
    "             }\n",
    "\n",
    "p = np.zeros((len(trees) * len(td), 3))\n",
    "k = 0\n",
    "for i in range(0, len(trees)):\n",
    "    for j in range(0, len(td)):\n",
    "        ada = AdaBoostClassifier(base_estimator=DecisionTreeClassifier(max_depth=td[j]),\n",
    "                                 n_estimators=trees[i],\n",
    "                                 learning_rate=.05)\n",
    "        p[k, 0] = trees[i]\n",
    "        p[k, 1] = td[j]\n",
    "        p[k, 2] = np.mean(cross_val_score(ada, X_train, y_train, cv=5))\n",
    "        k = k + 1\n",
    "x = pd.DataFrame(p)\n",
    "x.columns = ['ntree', 'depth', 'cv_score']\n",
    "p = x.ix[x['cv_score'].argmax()]\n",
    "ada = AdaBoostClassifier(base_estimator=DecisionTreeClassifier(max_depth=p[1]),\n",
    "                         n_estimators=int(p[0]), learning_rate = .05)\n",
    "ada.fit(X_train, y_train)"
   ]
  },
  {
   "cell_type": "code",
   "execution_count": 42,
   "metadata": {},
   "outputs": [],
   "source": [
    "yhat = ada.predict_proba(X_test)"
   ]
  },
  {
   "cell_type": "code",
   "execution_count": 41,
   "metadata": {},
   "outputs": [
    {
     "data": {
      "text/plain": [
       "Text(0.5,1,'Prediction probability for binary classes')"
      ]
     },
     "execution_count": 41,
     "metadata": {},
     "output_type": "execute_result"
    },
    {
     "data": {
      "image/png": "[encoded data removed]",
      "text/plain": [
       "<matplotlib.figure.Figure at 0x1e020c729e8>"
      ]
     },
     "metadata": {},
     "output_type": "display_data"
    }
   ],
   "source": [
    "plt.plot(yhat)\n",
    "plt.xlabel('test samples')\n",
    "plt.ylabel('Prediction Probability')\n",
    "plt.title('Prediction probability for binary classes')"
   ]
  },
  {
   "cell_type": "markdown",
   "metadata": {},
   "source": [
    "We see that there are no extreme probabilities that can be used to find strong buy/sell signals"
   ]
  },
  {
   "cell_type": "markdown",
   "metadata": {},
   "source": [
    "## Conclusion\n",
    "The LSTM and feed forward NN do not increase the accuracy of prediction over traditional methods <br>\n",
    "The traditional models and NNs are barely over the random classification thresholds <br>\n",
    "There are no extreme probabilities of buy/sell signals<br>"
   ]
  }
 ],
 "metadata": {
  "kernelspec": {
   "display_name": "Python 3",
   "language": "python",
   "name": "python3"
  },
  "language_info": {
   "codemirror_mode": {
    "name": "ipython",
    "version": 3
   },
   "file_extension": ".py",
   "mimetype": "text/x-python",
   "name": "python",
   "nbconvert_exporter": "python",
   "pygments_lexer": "ipython3",
   "version": "3.6.4"
  }
 },
 "nbformat": 4,
 "nbformat_minor": 2
}
