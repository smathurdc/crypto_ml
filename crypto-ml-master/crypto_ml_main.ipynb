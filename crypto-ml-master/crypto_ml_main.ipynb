{
 "cells": [
  {
   "cell_type": "markdown",
   "metadata": {},
   "source": [
    "# AC109 Project Modeling Results: Predicting the returns on Cryptocurrencies\n",
    "\n",
    "by Ali Dastjerdi, Angelina Massa, Sachin Mathur & Nate Stein\n",
    "\n",
    "### Supporting Libraries\n",
    "\n",
    "We outsourced some of the supporting code to other modules we wrote located in the main directory with the intent of having this notebook focus on the presentation of results. The supporting modules are:\n",
    "- `crypto_utils.py` contains the code we used to scrape and clean data from coinmarket.cap. It also contains the code used to wrangle/preprocess that data (saved in CSV files) into our design matrix. By separating the creation of the design matrix in its own `.py` file, we were also able to create unit tests to ensure the resulting figures match what we expected based on hand-calculated figures, which became increasingly important as we engineered more involved features.\n",
    "- `crypto_models.py` contains the code we used to iterate over multiple classification models and summarize the results in tabular form."
   ]
  },
  {
   "cell_type": "code",
   "execution_count": 1,
   "metadata": {},
   "outputs": [],
   "source": [
    "import crypto_utils as cryp\n",
    "import matplotlib.pyplot as plt\n",
    "import numpy as np\n",
    "import pandas as pd\n",
    "import seaborn as sns\n",
    "import sklearn.model_selection as model_selection\n",
    "import sklearn.metrics as metrics\n",
    "import time as time\n",
    "\n",
    "from crypto_utils import fmt_date, print_update"
   ]
  },
  {
   "cell_type": "code",
   "execution_count": 2,
   "metadata": {},
   "outputs": [],
   "source": [
    "# Custom output options.\n",
    "\n",
    "np.set_printoptions(precision=4, suppress=True)\n",
    "pd.set_option('display.precision', 4)\n",
    "sns.set_style('white')\n",
    "plt.rcParams['axes.titlesize'] = 16\n",
    "plt.rcParams['axes.labelsize'] = 14\n",
    "plt.rcParams['xtick.labelsize'] = 12\n",
    "plt.rcParams['ytick.labelsize'] = 12\n",
    "plt.rcParams['figure.figsize'] = (10, 8)\n",
    "plt.rcParams['font.size'] = 14\n",
    "plt.rcParams['legend.fontsize'] = 12\n",
    "plt.rcParams['savefig.bbox'] = 'tight'\n",
    "plt.rcParams['savefig.pad_inches'] = 0.05\n",
    "%matplotlib inline"
   ]
  },
  {
   "cell_type": "code",
   "execution_count": 3,
   "metadata": {},
   "outputs": [],
   "source": [
    "RAND_STATE = 88"
   ]
  },
  {
   "cell_type": "markdown",
   "metadata": {},
   "source": [
    "## Construct Design Matrix\n",
    "\n",
    "We want the construction of the design matrix to be agile enough to allow us to easily change whether we include certain features, which cryptocurrency's price return we want to forecast, etc."
   ]
  },
  {
   "cell_type": "code",
   "execution_count": 4,
   "metadata": {},
   "outputs": [],
   "source": [
    "def get_data(x_cryptos, y_crypto, test_size, kwargs):\n",
    "    design = cryp.DesignMatrix(x_cryptos=x_cryptos, y_crypto=y_crypto, **kwargs)\n",
    "    X, Y = design.get_data(lag_indicator=True)\n",
    "    X_train, X_test, y_train, y_test = model_selection.train_test_split(\n",
    "        X, Y, test_size=test_size, random_state=RAND_STATE)\n",
    "    return X_train, X_test, y_train, y_test"
   ]
  },
  {
   "cell_type": "code",
   "execution_count": 5,
   "metadata": {},
   "outputs": [],
   "source": [
    "crypto_scope = ['ltc', 'xrp', 'xlm', 'eth', 'btc']\n",
    "\n",
    "# Store x cryptocurrencies and y crypto (the one we're forecasting)\n",
    "# in list of tuples.\n",
    "xy_crypto_pairs = []\n",
    "for y_crypto in crypto_scope:\n",
    "    x_cryptos = [c for c in crypto_scope if c != y_crypto]\n",
    "    xy_crypto_pairs.append((x_cryptos, y_crypto))"
   ]
  },
  {
   "cell_type": "markdown",
   "metadata": {},
   "source": [
    "# Modeling: Regression"
   ]
  },
  {
   "cell_type": "code",
   "execution_count": 6,
   "metadata": {},
   "outputs": [],
   "source": [
    "import scipy.stats as stats\n",
    "from sklearn.linear_model import LinearRegression, LassoCV\n",
    "from sklearn.model_selection import RandomizedSearchCV\n",
    "from xgboost import XGBRegressor"
   ]
  },
  {
   "cell_type": "code",
   "execution_count": 7,
   "metadata": {},
   "outputs": [],
   "source": [
    "N_CROSSVAL = 3\n",
    "TEST_SIZE = 0.2"
   ]
  },
  {
   "cell_type": "markdown",
   "metadata": {},
   "source": [
    "### Baseline Model"
   ]
  },
  {
   "cell_type": "code",
   "execution_count": 8,
   "metadata": {},
   "outputs": [],
   "source": [
    "def evaluate_baseline_model(x_cryptos, y_crypto, kwargs):\n",
    "    \"\"\"Return MAE on test set.\"\"\"\n",
    "    X_train, X_test, y_train, y_test = get_data(x_cryptos, y_crypto, TEST_SIZE,\n",
    "                                                kwargs)\n",
    "    lr = LinearRegression().fit(X_train, y_train)\n",
    "    mae = metrics.mean_absolute_error(y_test, lr.predict(X_test))\n",
    "    return mae"
   ]
  },
  {
   "cell_type": "markdown",
   "metadata": {},
   "source": [
    "#### Determine optimal rolling window for measuring changes in price and volume\n",
    "\n",
    "Ultimately we want to determine which `n_rolling_volume`, `n_rolling_price` and `n_std_window` to use going forward, as it will influence our more advanced features."
   ]
  },
  {
   "cell_type": "code",
   "execution_count": 9,
   "metadata": {},
   "outputs": [],
   "source": [
    "def find_optimal_rolling_periods():\n",
    "    \"\"\"Iterates over many different rolling period windows and evaluates \n",
    "    MAE on test set.\n",
    "    \n",
    "    Notes: Takes ~18min to run.\n",
    "    \"\"\"\n",
    "    df_results = pd.DataFrame(columns=['y', 'mae', 'n_rolling_price', \n",
    "                                       'n_rolling_volume', 'n_std_window'])\n",
    "\n",
    "    params = {'n_rolling_price':None, 'n_rolling_volume':None,\n",
    "              'x_assets':[], 'n_std_window':None}\n",
    "\n",
    "    n_rolling_prices = range(1, 5)\n",
    "    n_rolling_volumes = range(1, 5)\n",
    "    n_std_windows = range(5, 60, 5)\n",
    "    \n",
    "    combo_total = len(n_rolling_prices) * len(n_rolling_volumes) * len(n_std_windows)\n",
    "    combo_count = 0\n",
    "    \n",
    "    t0 = time.time()\n",
    "    for n_price in n_rolling_prices:\n",
    "        for n_vol in n_rolling_volumes:\n",
    "            for n_std in n_std_windows:\n",
    "                combo_count += 1\n",
    "                print_update('Trying param combination {}/{}...'.format(\n",
    "                    combo_count, combo_total))\n",
    "                params['n_rolling_price'] = n_price\n",
    "                params['n_rolling_volume'] = n_vol\n",
    "                params['n_std_window'] = n_std\n",
    "                new_row = {'n_rolling_price': n_price,\n",
    "                           'n_rolling_volume': n_vol,\n",
    "                           'n_std_window': n_std}\n",
    "                for x_cryps, y_cryp in xy_crypto_pairs:\n",
    "                    new_row['y'] = y_cryp\n",
    "                    new_row['mae'] = evaluate_baseline_model(x_cryps, y_cryp, \n",
    "                                                             params)\n",
    "                    df_results = df_results.append(new_row, ignore_index=True)\n",
    "    print_update('Finished all parameter combinations in {:.2f} seconds.'.format(\n",
    "        time.time() - t0))\n",
    "    return df_results"
   ]
  },
  {
   "cell_type": "code",
   "execution_count": 10,
   "metadata": {},
   "outputs": [],
   "source": [
    "# avg_results = df_results.groupby(['n_rolling_price', 'n_rolling_volume', 'n_std_window']).mean()"
   ]
  },
  {
   "cell_type": "markdown",
   "metadata": {},
   "source": [
    "After iterating over many rolling window options in `find_optimal_rolling_periods()`, we can determine that the optimal parameters are:\n",
    "- `n_rolling_price`: 1\n",
    "- `n_rolling_volume`: 1\n",
    "- `n_std_window`: 10"
   ]
  },
  {
   "cell_type": "code",
   "execution_count": 11,
   "metadata": {},
   "outputs": [],
   "source": [
    "PARAMS = {'n_rolling_price':1, 'n_rolling_volume':1,\n",
    "          'x_assets':[], 'n_std_window':10}"
   ]
  },
  {
   "cell_type": "markdown",
   "metadata": {},
   "source": [
    "### Introduce Regularization"
   ]
  },
  {
   "cell_type": "code",
   "execution_count": 12,
   "metadata": {},
   "outputs": [],
   "source": [
    "def evaluate_lasso(x_cryptos, y_crypto):\n",
    "    \"\"\"Returns MAE and alpha from cross-validation after evaluating Lasso \n",
    "    regression on test set.\n",
    "    \"\"\"\n",
    "    X_train, X_test, y_train, y_test = get_data(x_cryptos, y_crypto, TEST_SIZE, \n",
    "                                                PARAMS)\n",
    "    lasso = LassoCV(n_alphas=100, cv=N_CROSSVAL, random_state=RAND_STATE)\n",
    "    lasso.fit(X_train, y_train)\n",
    "    mae = metrics.mean_absolute_error(y_test, lasso.predict(X_test))\n",
    "    return mae, lasso.alpha_, lasso, X_train"
   ]
  },
  {
   "cell_type": "code",
   "execution_count": 13,
   "metadata": {
    "scrolled": true
   },
   "outputs": [],
   "source": [
    "df_lasso = pd.DataFrame(columns=['y', 'mae', 'alpha'])\n",
    "for x_cryps, y_cryp in xy_crypto_pairs:\n",
    "    mae, alpha, _, _ = evaluate_lasso(x_cryps, y_cryp)\n",
    "    new_row = {'y': y_cryp, 'mae': mae, 'alpha': alpha}\n",
    "    df_lasso = df_lasso.append(new_row, ignore_index=True)"
   ]
  },
  {
   "cell_type": "code",
   "execution_count": 14,
   "metadata": {},
   "outputs": [
    {
     "data": {
      "text/html": [
       "<div>\n",
       "<style scoped>\n",
       "    .dataframe tbody tr th:only-of-type {\n",
       "        vertical-align: middle;\n",
       "    }\n",
       "\n",
       "    .dataframe tbody tr th {\n",
       "        vertical-align: top;\n",
       "    }\n",
       "\n",
       "    .dataframe thead th {\n",
       "        text-align: right;\n",
       "    }\n",
       "</style>\n",
       "<table border=\"1\" class=\"dataframe\">\n",
       "  <thead>\n",
       "    <tr style=\"text-align: right;\">\n",
       "      <th></th>\n",
       "      <th>y</th>\n",
       "      <th>mae</th>\n",
       "      <th>alpha</th>\n",
       "    </tr>\n",
       "  </thead>\n",
       "  <tbody>\n",
       "    <tr>\n",
       "      <th>0</th>\n",
       "      <td>ltc</td>\n",
       "      <td>0.0368</td>\n",
       "      <td>0.0058</td>\n",
       "    </tr>\n",
       "    <tr>\n",
       "      <th>1</th>\n",
       "      <td>xrp</td>\n",
       "      <td>0.0434</td>\n",
       "      <td>0.0415</td>\n",
       "    </tr>\n",
       "    <tr>\n",
       "      <th>2</th>\n",
       "      <td>xlm</td>\n",
       "      <td>0.0627</td>\n",
       "      <td>0.0101</td>\n",
       "    </tr>\n",
       "    <tr>\n",
       "      <th>3</th>\n",
       "      <td>eth</td>\n",
       "      <td>0.0500</td>\n",
       "      <td>0.0066</td>\n",
       "    </tr>\n",
       "    <tr>\n",
       "      <th>4</th>\n",
       "      <td>btc</td>\n",
       "      <td>0.0282</td>\n",
       "      <td>0.0049</td>\n",
       "    </tr>\n",
       "  </tbody>\n",
       "</table>\n",
       "</div>"
      ],
      "text/plain": [
       "     y     mae   alpha\n",
       "0  ltc  0.0368  0.0058\n",
       "1  xrp  0.0434  0.0415\n",
       "2  xlm  0.0627  0.0101\n",
       "3  eth  0.0500  0.0066\n",
       "4  btc  0.0282  0.0049"
      ]
     },
     "metadata": {},
     "output_type": "display_data"
    }
   ],
   "source": [
    "display(df_lasso)"
   ]
  },
  {
   "cell_type": "code",
   "execution_count": 15,
   "metadata": {},
   "outputs": [],
   "source": [
    "def get_features_df(lasso, X_train):\n",
    "    df = pd.DataFrame(columns=['coeff', 'weight'])\n",
    "    df['coeff'] = X_train.columns.tolist()\n",
    "    df['weight'] = lasso.coef_\n",
    "    df.sort_values('weight', ascending=False, inplace=True)\n",
    "    df.set_index('coeff', inplace=True, drop=True)\n",
    "    return df"
   ]
  },
  {
   "cell_type": "code",
   "execution_count": 16,
   "metadata": {},
   "outputs": [
    {
     "data": {
      "text/html": [
       "<div>\n",
       "<style scoped>\n",
       "    .dataframe tbody tr th:only-of-type {\n",
       "        vertical-align: middle;\n",
       "    }\n",
       "\n",
       "    .dataframe tbody tr th {\n",
       "        vertical-align: top;\n",
       "    }\n",
       "\n",
       "    .dataframe thead th {\n",
       "        text-align: right;\n",
       "    }\n",
       "</style>\n",
       "<table border=\"1\" class=\"dataframe\">\n",
       "  <thead>\n",
       "    <tr style=\"text-align: right;\">\n",
       "      <th></th>\n",
       "      <th>weight</th>\n",
       "    </tr>\n",
       "    <tr>\n",
       "      <th>coeff</th>\n",
       "      <th></th>\n",
       "    </tr>\n",
       "  </thead>\n",
       "  <tbody>\n",
       "    <tr>\n",
       "      <th>ltc_px_std</th>\n",
       "      <td>0.0</td>\n",
       "    </tr>\n",
       "    <tr>\n",
       "      <th>ltc_volume_std</th>\n",
       "      <td>0.0</td>\n",
       "    </tr>\n",
       "    <tr>\n",
       "      <th>xrp_px_std</th>\n",
       "      <td>-0.0</td>\n",
       "    </tr>\n",
       "    <tr>\n",
       "      <th>xrp_volume_std</th>\n",
       "      <td>-0.0</td>\n",
       "    </tr>\n",
       "    <tr>\n",
       "      <th>xlm_px_std</th>\n",
       "      <td>-0.0</td>\n",
       "    </tr>\n",
       "    <tr>\n",
       "      <th>xlm_volume_std</th>\n",
       "      <td>-0.0</td>\n",
       "    </tr>\n",
       "    <tr>\n",
       "      <th>eth_px_std</th>\n",
       "      <td>-0.0</td>\n",
       "    </tr>\n",
       "    <tr>\n",
       "      <th>eth_volume_std</th>\n",
       "      <td>0.0</td>\n",
       "    </tr>\n",
       "    <tr>\n",
       "      <th>btc_px_std</th>\n",
       "      <td>0.0</td>\n",
       "    </tr>\n",
       "    <tr>\n",
       "      <th>btc_volume_std</th>\n",
       "      <td>0.0</td>\n",
       "    </tr>\n",
       "    <tr>\n",
       "      <th>lagged_others</th>\n",
       "      <td>-0.0</td>\n",
       "    </tr>\n",
       "  </tbody>\n",
       "</table>\n",
       "</div>"
      ],
      "text/plain": [
       "                weight\n",
       "coeff                 \n",
       "ltc_px_std         0.0\n",
       "ltc_volume_std     0.0\n",
       "xrp_px_std        -0.0\n",
       "xrp_volume_std    -0.0\n",
       "xlm_px_std        -0.0\n",
       "xlm_volume_std    -0.0\n",
       "eth_px_std        -0.0\n",
       "eth_volume_std     0.0\n",
       "btc_px_std         0.0\n",
       "btc_volume_std     0.0\n",
       "lagged_others     -0.0"
      ]
     },
     "metadata": {},
     "output_type": "display_data"
    }
   ],
   "source": [
    "# See what weights are assigned to features.\n",
    "\n",
    "_, _, lasso, X_train = evaluate_lasso(['ltc', 'xrp', 'xlm', 'eth'], 'btc')\n",
    "feature_weights = get_features_df(lasso, X_train)\n",
    "display(feature_weights)"
   ]
  },
  {
   "cell_type": "markdown",
   "metadata": {},
   "source": [
    "### XGBRegressor"
   ]
  },
  {
   "cell_type": "code",
   "execution_count": 17,
   "metadata": {},
   "outputs": [],
   "source": [
    "X_train, X_test, y_train, y_test = get_data(['ltc', 'xrp', 'xlm', 'eth'], \n",
    "                                            'btc', TEST_SIZE, PARAMS)"
   ]
  },
  {
   "cell_type": "code",
   "execution_count": 18,
   "metadata": {},
   "outputs": [],
   "source": [
    "def build_xgb_model(X_train, y_train):\n",
    "    \"\"\"Iterate over a hyperparameter space and return best model on a \n",
    "    validation set reserved from input training data.\n",
    "    \"\"\"\n",
    "    # Define hyperparam space.\n",
    "    expon_distr = stats.expon(0, 50)\n",
    "    cv_params = {\n",
    "        'n_estimators': stats.randint(4, 100),\n",
    "        'max_depth': stats.randint(2, 100),\n",
    "        'learning_rate': stats.uniform(0.05, 0.95),\n",
    "        'gamma': stats.uniform(0, 10),\n",
    "        'reg_alpha': expon_distr,\n",
    "        'min_child_weight': expon_distr\n",
    "    }\n",
    "\n",
    "    # Iterate over hyperparam space.\n",
    "    xgb = XGBRegressor(nthreads=-1)  # nthreads=-1 => use max cores\n",
    "    \n",
    "    print_update('Tuning XGBRegressor hyperparams...')\n",
    "    t0 = time.time()\n",
    "    gs = RandomizedSearchCV(xgb, cv_params, n_iter=400, n_jobs=1, cv=3, \n",
    "                            random_state=88)\n",
    "    gs.fit(X_train, y_train)\n",
    "    print_update('Finished tuning XGBRegressor in {:.0f} secs.'.format(\n",
    "        time.time() - t0))\n",
    "    \n",
    "    return gs.best_estimator_"
   ]
  },
  {
   "cell_type": "code",
   "execution_count": 19,
   "metadata": {},
   "outputs": [
    {
     "name": "stdout",
     "output_type": "stream",
     "text": [
      "Finished tuning XGBRegressor in 24 secs.\r"
     ]
    }
   ],
   "source": [
    "xgb = build_xgb_model(X_train, y_train)"
   ]
  },
  {
   "cell_type": "code",
   "execution_count": 20,
   "metadata": {},
   "outputs": [
    {
     "name": "stdout",
     "output_type": "stream",
     "text": [
      "XGBRegressor MAE: 2.82%\n"
     ]
    }
   ],
   "source": [
    "mae_xgb = metrics.mean_absolute_error(y_test, xgb.predict(X_test))\n",
    "print('XGBRegressor MAE: {:.2%}'.format(mae_xgb))"
   ]
  },
  {
   "cell_type": "markdown",
   "metadata": {},
   "source": [
    "# Modeling: Classification"
   ]
  },
  {
   "cell_type": "code",
   "execution_count": 21,
   "metadata": {},
   "outputs": [],
   "source": [
    "import create_models"
   ]
  },
  {
   "cell_type": "code",
   "execution_count": 22,
   "metadata": {},
   "outputs": [],
   "source": [
    "def get_classification_data(thresh=0.01):\n",
    "    design = cryp.DesignMatrix(x_cryptos=x_cryptos, y_crypto=y_crypto, **PARAMS)\n",
    "    X, Y = design.get_data(lag_indicator=True, y_category=True,\n",
    "                           y_category_thresh=thresh)\n",
    "    return model_selection.train_test_split(X, Y, test_size=TEST_SIZE, \n",
    "                                            random_state=RAND_STATE)"
   ]
  },
  {
   "cell_type": "code",
   "execution_count": 23,
   "metadata": {},
   "outputs": [],
   "source": [
    "X_train, X_test, y_train, y_test = get_classification_data()"
   ]
  },
  {
   "cell_type": "code",
   "execution_count": 24,
   "metadata": {},
   "outputs": [
    {
     "name": "stdout",
     "output_type": "stream",
     "text": [
      "Training classification breakdown:\n",
      "\tBuy: 284 (37%)\n",
      "\tSell: 171 (22%)\n",
      "\tNeutral: 312 (41%)\n"
     ]
    }
   ],
   "source": [
    "buy_count = len(np.where(y_train == 1)[0])\n",
    "sell_count = len(np.where(y_train == -1)[0])\n",
    "hold_count = len(np.where(y_train == 0)[0])\n",
    "total = y_train.shape[0]\n",
    "print('Training classification breakdown:')\n",
    "print('\\tBuy: {0} ({1:.0%})'.format(buy_count, buy_count/total))\n",
    "print('\\tSell: {0} ({1:.0%})'.format(sell_count, sell_count/total))\n",
    "print('\\tNeutral: {0} ({1:.0%})'.format(hold_count, hold_count/total))"
   ]
  },
  {
   "cell_type": "code",
   "execution_count": 26,
   "metadata": {
    "scrolled": true
   },
   "outputs": [
    {
     "name": "stdout",
     "output_type": "stream",
     "text": [
      "[ 0.     0.016  0.016  0.024  0.024  0.04   0.04   0.064  0.064  0.08   0.08\n",
      "  0.096  0.096  0.112  0.112  0.144  0.144  0.152  0.152  0.16   0.16\n",
      "  0.192  0.192  0.208  0.208  0.264  0.264  0.272  0.272  0.296  0.296\n",
      "  0.304  0.304  0.32   0.32   0.336  0.336  0.344  0.344  0.368  0.368\n",
      "  0.384  0.384  0.392  0.392  0.416  0.416  0.432  0.432  0.448  0.448\n",
      "  0.496  0.496  0.504  0.504  0.536  0.536  0.544  0.544  0.592  0.592  0.6\n",
      "  0.6    0.608  0.608  0.616  0.616  0.632  0.632  0.64   0.64   0.68   0.68\n",
      "  0.704  0.704  0.712  0.712  0.744  0.744  0.752  0.752  0.768  0.768  0.8\n",
      "  0.8    0.816  0.816  0.84   0.84   0.848  0.848  0.864  0.864  0.888\n",
      "  0.888  0.936  0.936  0.944  0.944  0.96   0.96   0.976  0.976  0.992\n",
      "  0.992  1.   ]\n"
     ]
    }
   ],
   "source": [
    "clf_perf = create_models.traditional_models(X_train, y_train, X_test, \n",
    "                                            y_test, pos_label=[1])"
   ]
  },
  {
   "cell_type": "code",
   "execution_count": null,
   "metadata": {},
   "outputs": [],
   "source": [
    "# from sklearn.linear_model import LogisticRegressionCV\n",
    "\n",
    "# cvals = [1e-20, 1e-15, 1e-10, 1e-5, 1e-3, 1e-1, 1, 10, 100, 10000, 100000]\n",
    "# logregcv = LogisticRegressionCV(Cs=cvals, cv=5)\n",
    "# logregcv.fit(X_train, y_train)\n",
    "# yhat = logregcv.predict(X_test)\n",
    "# logreg_acc = metrics.accuracy_score(y_test, yhat)\n",
    "# fpr_log, tpr_log, thresholds = metrics.roc_curve(\n",
    "#           y_test, logregcv.predict_proba(X_test)[:, 1], pos_label=[1])\n",
    "# logreg_auc = metrics.auc(fpr_log, tpr_log)"
   ]
  },
  {
   "cell_type": "code",
   "execution_count": 27,
   "metadata": {},
   "outputs": [
    {
     "data": {
      "text/html": [
       "<div>\n",
       "<style scoped>\n",
       "    .dataframe tbody tr th:only-of-type {\n",
       "        vertical-align: middle;\n",
       "    }\n",
       "\n",
       "    .dataframe tbody tr th {\n",
       "        vertical-align: top;\n",
       "    }\n",
       "\n",
       "    .dataframe thead th {\n",
       "        text-align: right;\n",
       "    }\n",
       "</style>\n",
       "<table border=\"1\" class=\"dataframe\">\n",
       "  <thead>\n",
       "    <tr style=\"text-align: right;\">\n",
       "      <th></th>\n",
       "      <th>AUC</th>\n",
       "      <th>Accuracy</th>\n",
       "    </tr>\n",
       "  </thead>\n",
       "  <tbody>\n",
       "    <tr>\n",
       "      <th>LogReg</th>\n",
       "      <td>0.5124</td>\n",
       "      <td>0.2917</td>\n",
       "    </tr>\n",
       "    <tr>\n",
       "      <th>KNN</th>\n",
       "      <td>0.5349</td>\n",
       "      <td>0.3333</td>\n",
       "    </tr>\n",
       "    <tr>\n",
       "      <th>LDA</th>\n",
       "      <td>0.4790</td>\n",
       "      <td>0.3646</td>\n",
       "    </tr>\n",
       "    <tr>\n",
       "      <th>QDA</th>\n",
       "      <td>0.4165</td>\n",
       "      <td>0.3750</td>\n",
       "    </tr>\n",
       "    <tr>\n",
       "      <th>RandomForest</th>\n",
       "      <td>0.4965</td>\n",
       "      <td>0.3125</td>\n",
       "    </tr>\n",
       "    <tr>\n",
       "      <th>ADABoost</th>\n",
       "      <td>0.5220</td>\n",
       "      <td>0.3542</td>\n",
       "    </tr>\n",
       "    <tr>\n",
       "      <th>SVM</th>\n",
       "      <td>0.4968</td>\n",
       "      <td>0.3542</td>\n",
       "    </tr>\n",
       "  </tbody>\n",
       "</table>\n",
       "</div>"
      ],
      "text/plain": [
       "                 AUC  Accuracy\n",
       "LogReg        0.5124    0.2917\n",
       "KNN           0.5349    0.3333\n",
       "LDA           0.4790    0.3646\n",
       "QDA           0.4165    0.3750\n",
       "RandomForest  0.4965    0.3125\n",
       "ADABoost      0.5220    0.3542\n",
       "SVM           0.4968    0.3542"
      ]
     },
     "metadata": {},
     "output_type": "display_data"
    }
   ],
   "source": [
    "display(clf_perf)"
   ]
  },
  {
   "cell_type": "code",
   "execution_count": null,
   "metadata": {},
   "outputs": [],
   "source": []
  }
 ],
 "metadata": {
  "kernelspec": {
   "display_name": "Python 3",
   "language": "python",
   "name": "python3"
  },
  "language_info": {
   "codemirror_mode": {
    "name": "ipython",
    "version": 3
   },
   "file_extension": ".py",
   "mimetype": "text/x-python",
   "name": "python",
   "nbconvert_exporter": "python",
   "pygments_lexer": "ipython3",
   "version": "3.5.2"
  }
 },
 "nbformat": 4,
 "nbformat_minor": 2
}
