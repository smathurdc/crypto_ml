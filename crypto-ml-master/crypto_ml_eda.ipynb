{
 "cells": [
  {
   "cell_type": "markdown",
   "metadata": {},
   "source": [
    "# AC109 Project EDA: Predicting the returns on Cryptocurrencies\n",
    "\n",
    "by Ali Dastjerdi, Angelina Massa, Sachin Mathur & Nate Stein\n",
    "\n",
    "### Project Goal\n",
    "\n",
    "To predict the price return of one cryptocurrency based on the returns of other cryptocurrencies; market data, including equity indices and other benchmarks; and cryptocurrency news.\n",
    "\n",
    "### Work Load\n",
    "\n",
    "1. Creating basic data pipelines and evaluating different model possibilities.\n",
    "2. Using NLP techniques to convert unstructured news data concerning cryptocurrencies into features that can be fed into model.\n",
    "\n",
    "### Cryptocurrency Scope\n",
    "\n",
    "We focus on cryptocurrencies that have data going back to 2015 or earlier so we have more data points: btc, ltc, xrp, xlm, eth.\n",
    "\n",
    "#### Earliest date data available\n",
    "For top 10 cryptocurrencies in terms of market-cap, the following dates are the earliest dates closing price data is available:\n",
    "\n",
    "    btc\t4/28/2013\n",
    "    ltc\t4/28/2013\n",
    "    xrp\t8/4/2013\n",
    "    xlm\t8/5/2014\n",
    "    eth\t8/7/2015\n",
    "    neo\t9/9/2016\n",
    "    miota\t6/13/2017\n",
    "    eos\t7/1/2017\n",
    "    bch\t7/23/2017\n",
    "    ada\t10/1/2017"
   ]
  },
  {
   "cell_type": "code",
   "execution_count": 1,
   "metadata": {},
   "outputs": [],
   "source": [
    "import crypto_utils as crypu\n",
    "import datetime\n",
    "import matplotlib.dates as mdates\n",
    "import matplotlib.pyplot as plt\n",
    "import numpy as np\n",
    "import pandas as pd\n",
    "import seaborn as sns\n",
    "import sys\n",
    "\n",
    "from crypto_utils import fmt_date, print_update"
   ]
  },
  {
   "cell_type": "code",
   "execution_count": 43,
   "metadata": {},
   "outputs": [],
   "source": [
    "# Custom output options.\n",
    "\n",
    "np.set_printoptions(precision=3, suppress=True)\n",
    "pd.set_option('display.precision', 3)\n",
    "sns.set_style('white')\n",
    "plt.rcParams['axes.titlesize'] = 16\n",
    "plt.rcParams['axes.labelsize'] = 14\n",
    "plt.rcParams['xtick.labelsize'] = 12\n",
    "plt.rcParams['ytick.labelsize'] = 12\n",
    "plt.rcParams['figure.figsize'] = (10, 8)\n",
    "plt.rcParams['font.size'] = 14\n",
    "plt.rcParams['legend.fontsize'] = 12\n",
    "plt.rcParams['savefig.bbox'] = 'tight'\n",
    "plt.rcParams['savefig.pad_inches'] = 0.05\n",
    "%matplotlib inline\n",
    "\n",
    "# Flag for whether to (re)save figures into plots folder.\n",
    "SAVE_FIGS = True\n",
    "\n",
    "# Other global params.\n",
    "# Used when we just want to include basis sense of time on x-axis \n",
    "# without crowding due to many x-ticks.\n",
    "XTICKS_SIMPLE = [pd.to_datetime('1/1/2016'),\n",
    "                 pd.to_datetime('1/1/2017'),\n",
    "                 pd.to_datetime('1/1/2018')]"
   ]
  },
  {
   "cell_type": "markdown",
   "metadata": {},
   "source": [
    "# EDA"
   ]
  },
  {
   "cell_type": "markdown",
   "metadata": {},
   "source": [
    "### Basic Data Features\n",
    "\n",
    "The code for most of the preprocessing is in the `crypto_utils` module.\n",
    "\n",
    "#### Rolling Returns\n",
    "Here we create two time series containing the daily rolling returns for a subset of cryptocurrencies and other assets:  (i) raw daily returns and (ii) daily returns centered and scaled to unit variance with respect to each cryptocurrency.\n",
    "\n",
    "For example, the value for `btc` on 2015-08-09 in the raw DataFrame will be equal to:\n",
    "\n",
    "$$\\frac{\\text{btc}_t}{\\text{btc}_{t-1}}-1 = \\frac{265.08}{261.00}-1=1.56\\%$$\n",
    "\n",
    "where $\\text{btc}_t$ is the closing price of `btc` on 2015-08-09 and $\\text{btc}_{t-1}$ is the closing price of `btc` on the previous day, 2015-08-08.\n",
    "\n",
    "For non-cryptocurrency assets, the rolling return is calculated as the change in price between *available prices* since they typically do not trade on the weekends. To show the difference, let's assume a hypothetical date ($t$) of March 12, 2018 (a Monday). For cryptocurrencies, $t-1$ = March 11, 2018 (a Sunday), while for most non-cryptocurrency assets $t-1$ = March 9, 2018 (the preceding Friday)."
   ]
  },
  {
   "cell_type": "code",
   "execution_count": 3,
   "metadata": {},
   "outputs": [],
   "source": [
    "# Load rolling returns time series.\n",
    "\n",
    "ASSET_SCOPE = ['btc', 'ltc', 'xrp', 'xlm', 'eth', 'SP500']\n",
    "tdelta = 1  # 1 day\n",
    "analysis_end_dt = pd.to_datetime('3/31/2018')\n",
    "df_raw = crypu.load_returns_matrix (ASSET_SCOPE, \n",
    "                                    end_date=analysis_end_dt, \n",
    "                                    xdays=tdelta, center=False, \n",
    "                                    scale=False)\n",
    "df_std = crypu.load_returns_matrix (ASSET_SCOPE, \n",
    "                                    end_date=analysis_end_dt, \n",
    "                                    xdays=tdelta, center=True, scale=True)"
   ]
  },
  {
   "cell_type": "code",
   "execution_count": 4,
   "metadata": {
    "scrolled": true
   },
   "outputs": [
    {
     "name": "stdout",
     "output_type": "stream",
     "text": [
      "Rolling returns time period:\n",
      "\tStart date: 08/08/2015\n",
      "\tEnd date: 03/31/2018\n",
      "\tObservations: 967\n",
      "\n",
      "Raw DataFrame:\n"
     ]
    },
    {
     "data": {
      "text/html": [
       "<div>\n",
       "<style scoped>\n",
       "    .dataframe tbody tr th:only-of-type {\n",
       "        vertical-align: middle;\n",
       "    }\n",
       "\n",
       "    .dataframe tbody tr th {\n",
       "        vertical-align: top;\n",
       "    }\n",
       "\n",
       "    .dataframe thead th {\n",
       "        text-align: right;\n",
       "    }\n",
       "</style>\n",
       "<table border=\"1\" class=\"dataframe\">\n",
       "  <thead>\n",
       "    <tr style=\"text-align: right;\">\n",
       "      <th></th>\n",
       "      <th>btc</th>\n",
       "      <th>ltc</th>\n",
       "      <th>xrp</th>\n",
       "      <th>xlm</th>\n",
       "      <th>eth</th>\n",
       "      <th>SP500</th>\n",
       "    </tr>\n",
       "  </thead>\n",
       "  <tbody>\n",
       "    <tr>\n",
       "      <th>2015-08-08</th>\n",
       "      <td>-0.066</td>\n",
       "      <td>-0.086</td>\n",
       "      <td>0.040</td>\n",
       "      <td>-0.005</td>\n",
       "      <td>-0.728</td>\n",
       "      <td>-2.875e-03</td>\n",
       "    </tr>\n",
       "    <tr>\n",
       "      <th>2015-08-09</th>\n",
       "      <td>0.016</td>\n",
       "      <td>0.013</td>\n",
       "      <td>0.039</td>\n",
       "      <td>-0.031</td>\n",
       "      <td>-0.068</td>\n",
       "      <td>-2.875e-03</td>\n",
       "    </tr>\n",
       "    <tr>\n",
       "      <th>2015-08-10</th>\n",
       "      <td>-0.002</td>\n",
       "      <td>0.013</td>\n",
       "      <td>-0.007</td>\n",
       "      <td>0.052</td>\n",
       "      <td>0.009</td>\n",
       "      <td>1.281e-02</td>\n",
       "    </tr>\n",
       "    <tr>\n",
       "      <th>2015-08-11</th>\n",
       "      <td>0.022</td>\n",
       "      <td>0.053</td>\n",
       "      <td>-0.018</td>\n",
       "      <td>-0.028</td>\n",
       "      <td>0.510</td>\n",
       "      <td>-9.557e-03</td>\n",
       "    </tr>\n",
       "    <tr>\n",
       "      <th>2015-08-12</th>\n",
       "      <td>-0.015</td>\n",
       "      <td>-0.041</td>\n",
       "      <td>-0.037</td>\n",
       "      <td>-0.008</td>\n",
       "      <td>0.140</td>\n",
       "      <td>9.501e-04</td>\n",
       "    </tr>\n",
       "  </tbody>\n",
       "</table>\n",
       "</div>"
      ],
      "text/plain": [
       "              btc    ltc    xrp    xlm    eth      SP500\n",
       "2015-08-08 -0.066 -0.086  0.040 -0.005 -0.728 -2.875e-03\n",
       "2015-08-09  0.016  0.013  0.039 -0.031 -0.068 -2.875e-03\n",
       "2015-08-10 -0.002  0.013 -0.007  0.052  0.009  1.281e-02\n",
       "2015-08-11  0.022  0.053 -0.018 -0.028  0.510 -9.557e-03\n",
       "2015-08-12 -0.015 -0.041 -0.037 -0.008  0.140  9.501e-04"
      ]
     },
     "metadata": {},
     "output_type": "display_data"
    },
    {
     "name": "stdout",
     "output_type": "stream",
     "text": [
      "\n",
      "Standardized DataFrame:\n"
     ]
    },
    {
     "data": {
      "text/html": [
       "<div>\n",
       "<style scoped>\n",
       "    .dataframe tbody tr th:only-of-type {\n",
       "        vertical-align: middle;\n",
       "    }\n",
       "\n",
       "    .dataframe tbody tr th {\n",
       "        vertical-align: top;\n",
       "    }\n",
       "\n",
       "    .dataframe thead th {\n",
       "        text-align: right;\n",
       "    }\n",
       "</style>\n",
       "<table border=\"1\" class=\"dataframe\">\n",
       "  <thead>\n",
       "    <tr style=\"text-align: right;\">\n",
       "      <th></th>\n",
       "      <th>btc</th>\n",
       "      <th>ltc</th>\n",
       "      <th>xrp</th>\n",
       "      <th>xlm</th>\n",
       "      <th>eth</th>\n",
       "      <th>SP500</th>\n",
       "    </tr>\n",
       "  </thead>\n",
       "  <tbody>\n",
       "    <tr>\n",
       "      <th>2015-08-08</th>\n",
       "      <td>-1.707</td>\n",
       "      <td>-1.426</td>\n",
       "      <td>0.326</td>\n",
       "      <td>-0.140</td>\n",
       "      <td>-9.351</td>\n",
       "      <td>-0.377</td>\n",
       "    </tr>\n",
       "    <tr>\n",
       "      <th>2015-08-09</th>\n",
       "      <td>0.277</td>\n",
       "      <td>0.121</td>\n",
       "      <td>0.320</td>\n",
       "      <td>-0.386</td>\n",
       "      <td>-0.974</td>\n",
       "      <td>-0.377</td>\n",
       "    </tr>\n",
       "    <tr>\n",
       "      <th>2015-08-10</th>\n",
       "      <td>-0.157</td>\n",
       "      <td>0.118</td>\n",
       "      <td>-0.148</td>\n",
       "      <td>0.416</td>\n",
       "      <td>0.011</td>\n",
       "      <td>1.458</td>\n",
       "    </tr>\n",
       "    <tr>\n",
       "      <th>2015-08-11</th>\n",
       "      <td>0.440</td>\n",
       "      <td>0.752</td>\n",
       "      <td>-0.266</td>\n",
       "      <td>-0.357</td>\n",
       "      <td>6.373</td>\n",
       "      <td>-1.159</td>\n",
       "    </tr>\n",
       "    <tr>\n",
       "      <th>2015-08-12</th>\n",
       "      <td>-0.460</td>\n",
       "      <td>-0.725</td>\n",
       "      <td>-0.461</td>\n",
       "      <td>-0.161</td>\n",
       "      <td>1.673</td>\n",
       "      <td>0.070</td>\n",
       "    </tr>\n",
       "  </tbody>\n",
       "</table>\n",
       "</div>"
      ],
      "text/plain": [
       "              btc    ltc    xrp    xlm    eth  SP500\n",
       "2015-08-08 -1.707 -1.426  0.326 -0.140 -9.351 -0.377\n",
       "2015-08-09  0.277  0.121  0.320 -0.386 -0.974 -0.377\n",
       "2015-08-10 -0.157  0.118 -0.148  0.416  0.011  1.458\n",
       "2015-08-11  0.440  0.752 -0.266 -0.357  6.373 -1.159\n",
       "2015-08-12 -0.460 -0.725 -0.461 -0.161  1.673  0.070"
      ]
     },
     "metadata": {},
     "output_type": "display_data"
    }
   ],
   "source": [
    "# No reason start dates should be different for raw and standardized \n",
    "# DataFrames.\n",
    "analysis_start_dt = pd.to_datetime(df_raw.index.values.min())\n",
    "assert analysis_start_dt == df_std.index.values.min()\n",
    "assert analysis_end_dt == df_std.index.values.max()\n",
    "\n",
    "analysis_daycount = (analysis_end_dt - analysis_start_dt).days\n",
    "\n",
    "print('Rolling returns time period:')\n",
    "print('\\tStart date: {}'.format(fmt_date(analysis_start_dt)))\n",
    "print('\\tEnd date: {}'.format(fmt_date(df_raw.index.values.max())))\n",
    "print('\\tObservations: {}'.format(df_raw.shape[0]))\n",
    "print('\\nRaw DataFrame:')\n",
    "display(df_raw.head())\n",
    "print('\\nStandardized DataFrame:')\n",
    "display(df_std.head())"
   ]
  },
  {
   "cell_type": "markdown",
   "metadata": {},
   "source": [
    "### Analysis of Unstandardized Daily Price Return Data\n",
    "\n",
    "First we take a look at what the raw daily price return data looks like, i.e., the rolling daily returns that are not centered/scaled by cryptocurrency."
   ]
  },
  {
   "cell_type": "code",
   "execution_count": 5,
   "metadata": {},
   "outputs": [
    {
     "name": "stdout",
     "output_type": "stream",
     "text": [
      "Price return statistics without centering/scaling:\n",
      "Mean returns:\n"
     ]
    },
    {
     "data": {
      "text/plain": [
       "btc      4.186e-03\n",
       "ltc      5.301e-03\n",
       "xrp      7.868e-03\n",
       "xlm      8.962e-03\n",
       "eth      8.431e-03\n",
       "SP500    3.489e-04\n",
       "dtype: float64"
      ]
     },
     "metadata": {},
     "output_type": "display_data"
    },
    {
     "name": "stdout",
     "output_type": "stream",
     "text": [
      "Standard deviation of returns:\n"
     ]
    },
    {
     "data": {
      "text/plain": [
       "btc      0.041\n",
       "ltc      0.064\n",
       "xrp      0.098\n",
       "xlm      0.103\n",
       "eth      0.079\n",
       "SP500    0.009\n",
       "dtype: float64"
      ]
     },
     "metadata": {},
     "output_type": "display_data"
    },
    {
     "name": "stdout",
     "output_type": "stream",
     "text": [
      "Cumulative return:\n"
     ]
    },
    {
     "data": {
      "text/plain": [
       "btc       24.943\n",
       "ltc       27.698\n",
       "xrp       62.850\n",
       "xlm       85.024\n",
       "eth      143.126\n",
       "SP500      1.352\n",
       "dtype: float64"
      ]
     },
     "metadata": {},
     "output_type": "display_data"
    },
    {
     "name": "stdout",
     "output_type": "stream",
     "text": [
      "Correlation:\n"
     ]
    },
    {
     "data": {
      "text/html": [
       "<div>\n",
       "<style scoped>\n",
       "    .dataframe tbody tr th:only-of-type {\n",
       "        vertical-align: middle;\n",
       "    }\n",
       "\n",
       "    .dataframe tbody tr th {\n",
       "        vertical-align: top;\n",
       "    }\n",
       "\n",
       "    .dataframe thead th {\n",
       "        text-align: right;\n",
       "    }\n",
       "</style>\n",
       "<table border=\"1\" class=\"dataframe\">\n",
       "  <thead>\n",
       "    <tr style=\"text-align: right;\">\n",
       "      <th></th>\n",
       "      <th>btc</th>\n",
       "      <th>ltc</th>\n",
       "      <th>xrp</th>\n",
       "      <th>xlm</th>\n",
       "      <th>eth</th>\n",
       "      <th>SP500</th>\n",
       "    </tr>\n",
       "  </thead>\n",
       "  <tbody>\n",
       "    <tr>\n",
       "      <th>btc</th>\n",
       "      <td>1.000</td>\n",
       "      <td>0.512</td>\n",
       "      <td>0.187</td>\n",
       "      <td>0.259</td>\n",
       "      <td>0.299</td>\n",
       "      <td>0.058</td>\n",
       "    </tr>\n",
       "    <tr>\n",
       "      <th>ltc</th>\n",
       "      <td>0.512</td>\n",
       "      <td>1.000</td>\n",
       "      <td>0.255</td>\n",
       "      <td>0.281</td>\n",
       "      <td>0.273</td>\n",
       "      <td>0.053</td>\n",
       "    </tr>\n",
       "    <tr>\n",
       "      <th>xrp</th>\n",
       "      <td>0.187</td>\n",
       "      <td>0.255</td>\n",
       "      <td>1.000</td>\n",
       "      <td>0.473</td>\n",
       "      <td>0.119</td>\n",
       "      <td>0.020</td>\n",
       "    </tr>\n",
       "    <tr>\n",
       "      <th>xlm</th>\n",
       "      <td>0.259</td>\n",
       "      <td>0.281</td>\n",
       "      <td>0.473</td>\n",
       "      <td>1.000</td>\n",
       "      <td>0.167</td>\n",
       "      <td>0.031</td>\n",
       "    </tr>\n",
       "    <tr>\n",
       "      <th>eth</th>\n",
       "      <td>0.299</td>\n",
       "      <td>0.273</td>\n",
       "      <td>0.119</td>\n",
       "      <td>0.167</td>\n",
       "      <td>1.000</td>\n",
       "      <td>0.051</td>\n",
       "    </tr>\n",
       "    <tr>\n",
       "      <th>SP500</th>\n",
       "      <td>0.058</td>\n",
       "      <td>0.053</td>\n",
       "      <td>0.020</td>\n",
       "      <td>0.031</td>\n",
       "      <td>0.051</td>\n",
       "      <td>1.000</td>\n",
       "    </tr>\n",
       "  </tbody>\n",
       "</table>\n",
       "</div>"
      ],
      "text/plain": [
       "         btc    ltc    xrp    xlm    eth  SP500\n",
       "btc    1.000  0.512  0.187  0.259  0.299  0.058\n",
       "ltc    0.512  1.000  0.255  0.281  0.273  0.053\n",
       "xrp    0.187  0.255  1.000  0.473  0.119  0.020\n",
       "xlm    0.259  0.281  0.473  1.000  0.167  0.031\n",
       "eth    0.299  0.273  0.119  0.167  1.000  0.051\n",
       "SP500  0.058  0.053  0.020  0.031  0.051  1.000"
      ]
     },
     "execution_count": 5,
     "metadata": {},
     "output_type": "execute_result"
    }
   ],
   "source": [
    "print('Price return statistics without centering/scaling:')\n",
    "print('Mean returns:')\n",
    "display(df_raw.mean(axis=0))\n",
    "print('Standard deviation of returns:')\n",
    "display(df_raw.std(axis=0))\n",
    "print('Cumulative return:')\n",
    "display((df_raw + 1).prod(axis=0))\n",
    "print('Correlation:')\n",
    "df_raw.corr()"
   ]
  },
  {
   "cell_type": "code",
   "execution_count": 6,
   "metadata": {},
   "outputs": [
    {
     "data": {
      "image/png": "[encoded data removed]",
      "text/plain": [
       "<matplotlib.figure.Figure at 0x67bcabb240>"
      ]
     },
     "metadata": {},
     "output_type": "display_data"
    }
   ],
   "source": [
    "# Correlation matrix graph.\n",
    "\n",
    "corr = np.corrcoef(df_raw.values.T)\n",
    "plt.figure(figsize=(8, 8))\n",
    "plt.imshow(corr, cmap='Blues', interpolation='none')\n",
    "cb = plt.colorbar()\n",
    "cb.set_label('Correlation Matrix Coefficients')\n",
    "plt.title('Correlation Matrix', fontsize=16)\n",
    "\n",
    "# Shift axes ticks b/c they defualt to center of squares.\n",
    "ticks = np.arange(-0.5, len(ASSET_SCOPE), 1)\n",
    "tick_labels = np.arange(1, len(ASSET_SCOPE), 1)\n",
    "plt.xticks(ticks, ASSET_SCOPE, rotation=90, size=14)\n",
    "plt.yticks(ticks, ASSET_SCOPE, size=14)\n",
    "if SAVE_FIGS:\n",
    "    plt.savefig('plots/corr.png')"
   ]
  },
  {
   "cell_type": "code",
   "execution_count": 7,
   "metadata": {},
   "outputs": [
    {
     "data": {
      "image/png": "[encoded data removed]",
      "text/plain": [
       "<matplotlib.figure.Figure at 0x67c04dff60>"
      ]
     },
     "metadata": {},
     "output_type": "display_data"
    }
   ],
   "source": [
    "# Graph returns.\n",
    "\n",
    "LW = 0.5  # line width\n",
    "TS = 12  # subplot title size\n",
    "\n",
    "# Number of rows and columns we'll need for all subplots.\n",
    "INCHES_PER_ROW, INCHES_PER_COL = 3, 3\n",
    "ax_rows, ax_cols = 2, 3\n",
    "figsize = (ax_cols*INCHES_PER_COL, ax_rows*INCHES_PER_ROW)\n",
    "\n",
    "# Create xticks so we have only 5 ticks.\n",
    "desired_ticks = 5\n",
    "days_per_tick = int(analysis_daycount/desired_ticks)\n",
    "xticks = [analysis_start_dt + datetime.timedelta(days=x_*days_per_tick) for \n",
    "          x_ in range(1, desired_ticks+1)]\n",
    "\n",
    "fig1, ax1 = plt.subplots(ax_rows, ax_cols, figsize=figsize,\n",
    "                         sharex=True, sharey=True)\n",
    "XAXIS_DATE_FORMAT = mdates.DateFormatter('%m/%y')\n",
    "row, col = 0, 0\n",
    "\n",
    "for asset in ASSET_SCOPE:\n",
    "    ax1[row, col].plot(df_raw[asset], linewidth=LW)\n",
    "    ax1[row, col].set_title(asset, size=TS)\n",
    "    ax1[row, col].set_xticks(xticks)\n",
    "    ax1[row, col].xaxis.set_major_formatter(XAXIS_DATE_FORMAT)\n",
    "    \n",
    "    # Increment axis index.\n",
    "    if ((col + 1)%ax_cols)==0:\n",
    "        # Move to next row since we're at last column.\n",
    "        col = 0\n",
    "        row += 1\n",
    "    else:\n",
    "        col += 1\n",
    "\n",
    "fig1.autofmt_xdate()  #  so dates are rotated nicely on x-axis\n",
    "fig1.suptitle('Rolling Daily Returns', size=16)\n",
    "if SAVE_FIGS:\n",
    "    fig1.savefig('plots/daily_rolling_all.png')"
   ]
  },
  {
   "cell_type": "markdown",
   "metadata": {},
   "source": [
    "### Histograms of Unstandardized Cryptocurrency Returns"
   ]
  },
  {
   "cell_type": "code",
   "execution_count": 8,
   "metadata": {},
   "outputs": [],
   "source": [
    "# Main histogram plotter.\n",
    "\n",
    "HIST_BINS = 20\n",
    "HIST_NORMED = False\n",
    "\n",
    "def plot_hist(asset, bins=HIST_BINS, normed=HIST_NORMED, savefig=True):\n",
    "    \"\"\"Plot histogram where y-axis is p(x) and x is data for the given bin.\"\"\"\n",
    "    data = df_raw[asset].values\n",
    "    plt.hist(data, bins=bins, normed=normed, align='mid',\n",
    "             weights=np.ones(len(data)) / len(data))\n",
    "    plt.title(asset)\n",
    "    plt.xlabel('Unstandardized rolling return')\n",
    "    plt.ylabel('Frequency')\n",
    "    if savefig:\n",
    "        plt.savefig('plots/hist_{}'.format(asset))\n",
    "    plt.show()"
   ]
  },
  {
   "cell_type": "code",
   "execution_count": 9,
   "metadata": {},
   "outputs": [
    {
     "data": {
      "image/png": "[encoded data removed]",
      "text/plain": [
       "<matplotlib.figure.Figure at 0x67c3137668>"
      ]
     },
     "metadata": {},
     "output_type": "display_data"
    },
    {
     "data": {
      "image/png": "[encoded data removed]",
      "text/plain": [
       "<matplotlib.figure.Figure at 0x67c03fc240>"
      ]
     },
     "metadata": {},
     "output_type": "display_data"
    },
    {
     "data": {
      "image/png": "[encoded data removed]",
      "text/plain": [
       "<matplotlib.figure.Figure at 0x67c31872e8>"
      ]
     },
     "metadata": {},
     "output_type": "display_data"
    },
    {
     "data": {
      "image/png": "[encoded data removed]",
      "text/plain": [
       "<matplotlib.figure.Figure at 0x67c3485240>"
      ]
     },
     "metadata": {},
     "output_type": "display_data"
    },
    {
     "data": {
      "image/png": "[encoded data removed]",
      "text/plain": [
       "<matplotlib.figure.Figure at 0x67c344ee80>"
      ]
     },
     "metadata": {},
     "output_type": "display_data"
    },
    {
     "data": {
      "image/png": "[encoded data removed]",
      "text/plain": [
       "<matplotlib.figure.Figure at 0x67c3333ac8>"
      ]
     },
     "metadata": {},
     "output_type": "display_data"
    }
   ],
   "source": [
    "for asset in ASSET_SCOPE:\n",
    "    plot_hist(asset, savefig=SAVE_FIGS)"
   ]
  },
  {
   "cell_type": "markdown",
   "metadata": {},
   "source": [
    "### Histograms of (Return = Positive)\n",
    "\n",
    "*Still using unstandardized returns. If return > 0.01, True; else, False."
   ]
  },
  {
   "cell_type": "markdown",
   "metadata": {},
   "source": [
    "# Prepare model data\n",
    "\n",
    "#### Definition of rolling returns\n",
    "\n",
    "We aim to One cryptocurrency's return will be the $Y$ value while the other currencies' returns will be the $X$.\n",
    "\n",
    "In below example, `btc` is the cryptocurrency whose price return we try to predict. Therefore, one example of row in our training data would contain:\n",
    "- Index: 3/30/2018\n",
    "- $Y$: `btc`'s percentage change in `close` price from 3/29/2018 -> 3/30/2018.\n",
    "- $X$: The other cryptocurrencies' percentage change in `close` price from 3/28/2018 -> 3/29/2018.\n",
    "\n",
    "i.e., we want to use the rolling returns from the other cryptocurrencies on 3/29/2018 to predict the return of `btc` on the next day (3/30/2018).\n",
    "\n",
    "For example, the price return for `eth` on original frame at 10/3/2017 was equal to $-0.329$. After shifting the returns forward one day in the following code, the price return for `eth` on 10/3/2017 becomes $-0.316$, the value for 10/2/2017 in the previous DF. "
   ]
  },
  {
   "cell_type": "code",
   "execution_count": 10,
   "metadata": {},
   "outputs": [
    {
     "data": {
      "text/html": [
       "<div>\n",
       "<style scoped>\n",
       "    .dataframe tbody tr th:only-of-type {\n",
       "        vertical-align: middle;\n",
       "    }\n",
       "\n",
       "    .dataframe tbody tr th {\n",
       "        vertical-align: top;\n",
       "    }\n",
       "\n",
       "    .dataframe thead th {\n",
       "        text-align: right;\n",
       "    }\n",
       "</style>\n",
       "<table border=\"1\" class=\"dataframe\">\n",
       "  <thead>\n",
       "    <tr style=\"text-align: right;\">\n",
       "      <th></th>\n",
       "      <th>btc</th>\n",
       "      <th>ltc</th>\n",
       "      <th>xrp</th>\n",
       "      <th>xlm</th>\n",
       "      <th>eth</th>\n",
       "      <th>SP500</th>\n",
       "    </tr>\n",
       "  </thead>\n",
       "  <tbody>\n",
       "    <tr>\n",
       "      <th>2015-08-09</th>\n",
       "      <td>0.277</td>\n",
       "      <td>-1.426</td>\n",
       "      <td>0.326</td>\n",
       "      <td>-0.140</td>\n",
       "      <td>-9.351</td>\n",
       "      <td>-0.377</td>\n",
       "    </tr>\n",
       "    <tr>\n",
       "      <th>2015-08-10</th>\n",
       "      <td>-0.157</td>\n",
       "      <td>0.121</td>\n",
       "      <td>0.320</td>\n",
       "      <td>-0.386</td>\n",
       "      <td>-0.974</td>\n",
       "      <td>-0.377</td>\n",
       "    </tr>\n",
       "    <tr>\n",
       "      <th>2015-08-11</th>\n",
       "      <td>0.440</td>\n",
       "      <td>0.118</td>\n",
       "      <td>-0.148</td>\n",
       "      <td>0.416</td>\n",
       "      <td>0.011</td>\n",
       "      <td>1.458</td>\n",
       "    </tr>\n",
       "    <tr>\n",
       "      <th>2015-08-12</th>\n",
       "      <td>-0.460</td>\n",
       "      <td>0.752</td>\n",
       "      <td>-0.266</td>\n",
       "      <td>-0.357</td>\n",
       "      <td>6.373</td>\n",
       "      <td>-1.159</td>\n",
       "    </tr>\n",
       "    <tr>\n",
       "      <th>2015-08-13</th>\n",
       "      <td>-0.310</td>\n",
       "      <td>-0.725</td>\n",
       "      <td>-0.461</td>\n",
       "      <td>-0.161</td>\n",
       "      <td>1.673</td>\n",
       "      <td>0.070</td>\n",
       "    </tr>\n",
       "  </tbody>\n",
       "</table>\n",
       "</div>"
      ],
      "text/plain": [
       "              btc    ltc    xrp    xlm    eth  SP500\n",
       "2015-08-09  0.277 -1.426  0.326 -0.140 -9.351 -0.377\n",
       "2015-08-10 -0.157  0.121  0.320 -0.386 -0.974 -0.377\n",
       "2015-08-11  0.440  0.118 -0.148  0.416  0.011  1.458\n",
       "2015-08-12 -0.460  0.752 -0.266 -0.357  6.373 -1.159\n",
       "2015-08-13 -0.310 -0.725 -0.461 -0.161  1.673  0.070"
      ]
     },
     "execution_count": 10,
     "metadata": {},
     "output_type": "execute_result"
    }
   ],
   "source": [
    "y_asset = 'btc'  # crypto whose return we want to predict\n",
    "x_assets = [c for c in df_std.columns if c != y_asset]\n",
    "df_model = df_std.copy()\n",
    "df_model[x_assets] = df_model[x_assets].shift(periods=1)\n",
    "df_model.dropna(axis=0, how='any', inplace=True)\n",
    "df_model.head()"
   ]
  },
  {
   "cell_type": "code",
   "execution_count": 11,
   "metadata": {},
   "outputs": [],
   "source": [
    "def display_df_subset(df, start, end):\n",
    "    df = df[(df.index >= start) & (df.index <= end)]\n",
    "    display(df)\n",
    "    \n",
    "def display_df_as_feat_matrix(df, start, end, ycol):\n",
    "    df = df[(df.index >= start) & (df.index <= end)]\n",
    "    renaming = {ycol: 'Y'}\n",
    "    x_i = 0\n",
    "    for c in df.columns:\n",
    "        if c != ycol:\n",
    "            renaming[c] = 'x_{}'.format(x_i)\n",
    "            x_i += 1\n",
    "    df = df.rename(columns=renaming)\n",
    "    display(df)"
   ]
  },
  {
   "cell_type": "code",
   "execution_count": 12,
   "metadata": {},
   "outputs": [
    {
     "data": {
      "text/html": [
       "<div>\n",
       "<style scoped>\n",
       "    .dataframe tbody tr th:only-of-type {\n",
       "        vertical-align: middle;\n",
       "    }\n",
       "\n",
       "    .dataframe tbody tr th {\n",
       "        vertical-align: top;\n",
       "    }\n",
       "\n",
       "    .dataframe thead th {\n",
       "        text-align: right;\n",
       "    }\n",
       "</style>\n",
       "<table border=\"1\" class=\"dataframe\">\n",
       "  <thead>\n",
       "    <tr style=\"text-align: right;\">\n",
       "      <th></th>\n",
       "      <th>btc</th>\n",
       "      <th>ltc</th>\n",
       "      <th>xrp</th>\n",
       "      <th>xlm</th>\n",
       "      <th>eth</th>\n",
       "      <th>SP500</th>\n",
       "    </tr>\n",
       "  </thead>\n",
       "  <tbody>\n",
       "    <tr>\n",
       "      <th>2017-12-26</th>\n",
       "      <td>3.471</td>\n",
       "      <td>-0.231</td>\n",
       "      <td>0.706</td>\n",
       "      <td>0.089</td>\n",
       "      <td>1.204</td>\n",
       "      <td>-0.094</td>\n",
       "    </tr>\n",
       "    <tr>\n",
       "      <th>2017-12-27</th>\n",
       "      <td>-0.493</td>\n",
       "      <td>0.670</td>\n",
       "      <td>0.559</td>\n",
       "      <td>-0.194</td>\n",
       "      <td>0.026</td>\n",
       "      <td>-0.165</td>\n",
       "    </tr>\n",
       "    <tr>\n",
       "      <th>2017-12-28</th>\n",
       "      <td>-1.981</td>\n",
       "      <td>-0.869</td>\n",
       "      <td>1.725</td>\n",
       "      <td>0.051</td>\n",
       "      <td>-0.288</td>\n",
       "      <td>0.052</td>\n",
       "    </tr>\n",
       "    <tr>\n",
       "      <th>2017-12-29</th>\n",
       "      <td>-0.019</td>\n",
       "      <td>-1.366</td>\n",
       "      <td>0.139</td>\n",
       "      <td>-0.329</td>\n",
       "      <td>-0.537</td>\n",
       "      <td>0.174</td>\n",
       "    </tr>\n",
       "    <tr>\n",
       "      <th>2017-12-30</th>\n",
       "      <td>-2.911</td>\n",
       "      <td>-0.362</td>\n",
       "      <td>5.499</td>\n",
       "      <td>4.252</td>\n",
       "      <td>0.178</td>\n",
       "      <td>-0.647</td>\n",
       "    </tr>\n",
       "    <tr>\n",
       "      <th>2017-12-31</th>\n",
       "      <td>2.146</td>\n",
       "      <td>-1.781</td>\n",
       "      <td>-0.312</td>\n",
       "      <td>-0.080</td>\n",
       "      <td>-0.719</td>\n",
       "      <td>-0.647</td>\n",
       "    </tr>\n",
       "    <tr>\n",
       "      <th>2018-01-01</th>\n",
       "      <td>-0.953</td>\n",
       "      <td>0.859</td>\n",
       "      <td>0.582</td>\n",
       "      <td>1.046</td>\n",
       "      <td>0.592</td>\n",
       "      <td>-0.647</td>\n",
       "    </tr>\n",
       "    <tr>\n",
       "      <th>2018-01-02</th>\n",
       "      <td>2.243</td>\n",
       "      <td>-0.291</td>\n",
       "      <td>0.320</td>\n",
       "      <td>3.138</td>\n",
       "      <td>0.160</td>\n",
       "      <td>-0.647</td>\n",
       "    </tr>\n",
       "    <tr>\n",
       "      <th>2018-01-03</th>\n",
       "      <td>0.252</td>\n",
       "      <td>1.744</td>\n",
       "      <td>0.305</td>\n",
       "      <td>1.636</td>\n",
       "      <td>1.730</td>\n",
       "      <td>0.931</td>\n",
       "    </tr>\n",
       "    <tr>\n",
       "      <th>2018-01-04</th>\n",
       "      <td>0.532</td>\n",
       "      <td>-0.716</td>\n",
       "      <td>2.518</td>\n",
       "      <td>5.640</td>\n",
       "      <td>1.017</td>\n",
       "      <td>0.708</td>\n",
       "    </tr>\n",
       "    <tr>\n",
       "      <th>2018-01-05</th>\n",
       "      <td>2.734</td>\n",
       "      <td>-0.339</td>\n",
       "      <td>0.216</td>\n",
       "      <td>-1.962</td>\n",
       "      <td>0.133</td>\n",
       "      <td>0.431</td>\n",
       "    </tr>\n",
       "  </tbody>\n",
       "</table>\n",
       "</div>"
      ],
      "text/plain": [
       "              btc    ltc    xrp    xlm    eth  SP500\n",
       "2017-12-26  3.471 -0.231  0.706  0.089  1.204 -0.094\n",
       "2017-12-27 -0.493  0.670  0.559 -0.194  0.026 -0.165\n",
       "2017-12-28 -1.981 -0.869  1.725  0.051 -0.288  0.052\n",
       "2017-12-29 -0.019 -1.366  0.139 -0.329 -0.537  0.174\n",
       "2017-12-30 -2.911 -0.362  5.499  4.252  0.178 -0.647\n",
       "2017-12-31  2.146 -1.781 -0.312 -0.080 -0.719 -0.647\n",
       "2018-01-01 -0.953  0.859  0.582  1.046  0.592 -0.647\n",
       "2018-01-02  2.243 -0.291  0.320  3.138  0.160 -0.647\n",
       "2018-01-03  0.252  1.744  0.305  1.636  1.730  0.931\n",
       "2018-01-04  0.532 -0.716  2.518  5.640  1.017  0.708\n",
       "2018-01-05  2.734 -0.339  0.216 -1.962  0.133  0.431"
      ]
     },
     "metadata": {},
     "output_type": "display_data"
    }
   ],
   "source": [
    "display_df_subset(df_model, \n",
    "                  start=pd.to_datetime('12/26/2017'),\n",
    "                  end=pd.to_datetime('1/5/2018'))"
   ]
  },
  {
   "cell_type": "code",
   "execution_count": 13,
   "metadata": {},
   "outputs": [
    {
     "data": {
      "text/html": [
       "<div>\n",
       "<style scoped>\n",
       "    .dataframe tbody tr th:only-of-type {\n",
       "        vertical-align: middle;\n",
       "    }\n",
       "\n",
       "    .dataframe tbody tr th {\n",
       "        vertical-align: top;\n",
       "    }\n",
       "\n",
       "    .dataframe thead th {\n",
       "        text-align: right;\n",
       "    }\n",
       "</style>\n",
       "<table border=\"1\" class=\"dataframe\">\n",
       "  <thead>\n",
       "    <tr style=\"text-align: right;\">\n",
       "      <th></th>\n",
       "      <th>Y</th>\n",
       "      <th>x_0</th>\n",
       "      <th>x_1</th>\n",
       "      <th>x_2</th>\n",
       "      <th>x_3</th>\n",
       "      <th>x_4</th>\n",
       "    </tr>\n",
       "  </thead>\n",
       "  <tbody>\n",
       "    <tr>\n",
       "      <th>2017-12-26</th>\n",
       "      <td>3.471</td>\n",
       "      <td>-0.231</td>\n",
       "      <td>0.706</td>\n",
       "      <td>0.089</td>\n",
       "      <td>1.204</td>\n",
       "      <td>-0.094</td>\n",
       "    </tr>\n",
       "    <tr>\n",
       "      <th>2017-12-27</th>\n",
       "      <td>-0.493</td>\n",
       "      <td>0.670</td>\n",
       "      <td>0.559</td>\n",
       "      <td>-0.194</td>\n",
       "      <td>0.026</td>\n",
       "      <td>-0.165</td>\n",
       "    </tr>\n",
       "    <tr>\n",
       "      <th>2017-12-28</th>\n",
       "      <td>-1.981</td>\n",
       "      <td>-0.869</td>\n",
       "      <td>1.725</td>\n",
       "      <td>0.051</td>\n",
       "      <td>-0.288</td>\n",
       "      <td>0.052</td>\n",
       "    </tr>\n",
       "    <tr>\n",
       "      <th>2017-12-29</th>\n",
       "      <td>-0.019</td>\n",
       "      <td>-1.366</td>\n",
       "      <td>0.139</td>\n",
       "      <td>-0.329</td>\n",
       "      <td>-0.537</td>\n",
       "      <td>0.174</td>\n",
       "    </tr>\n",
       "    <tr>\n",
       "      <th>2017-12-30</th>\n",
       "      <td>-2.911</td>\n",
       "      <td>-0.362</td>\n",
       "      <td>5.499</td>\n",
       "      <td>4.252</td>\n",
       "      <td>0.178</td>\n",
       "      <td>-0.647</td>\n",
       "    </tr>\n",
       "    <tr>\n",
       "      <th>2017-12-31</th>\n",
       "      <td>2.146</td>\n",
       "      <td>-1.781</td>\n",
       "      <td>-0.312</td>\n",
       "      <td>-0.080</td>\n",
       "      <td>-0.719</td>\n",
       "      <td>-0.647</td>\n",
       "    </tr>\n",
       "    <tr>\n",
       "      <th>2018-01-01</th>\n",
       "      <td>-0.953</td>\n",
       "      <td>0.859</td>\n",
       "      <td>0.582</td>\n",
       "      <td>1.046</td>\n",
       "      <td>0.592</td>\n",
       "      <td>-0.647</td>\n",
       "    </tr>\n",
       "    <tr>\n",
       "      <th>2018-01-02</th>\n",
       "      <td>2.243</td>\n",
       "      <td>-0.291</td>\n",
       "      <td>0.320</td>\n",
       "      <td>3.138</td>\n",
       "      <td>0.160</td>\n",
       "      <td>-0.647</td>\n",
       "    </tr>\n",
       "    <tr>\n",
       "      <th>2018-01-03</th>\n",
       "      <td>0.252</td>\n",
       "      <td>1.744</td>\n",
       "      <td>0.305</td>\n",
       "      <td>1.636</td>\n",
       "      <td>1.730</td>\n",
       "      <td>0.931</td>\n",
       "    </tr>\n",
       "    <tr>\n",
       "      <th>2018-01-04</th>\n",
       "      <td>0.532</td>\n",
       "      <td>-0.716</td>\n",
       "      <td>2.518</td>\n",
       "      <td>5.640</td>\n",
       "      <td>1.017</td>\n",
       "      <td>0.708</td>\n",
       "    </tr>\n",
       "    <tr>\n",
       "      <th>2018-01-05</th>\n",
       "      <td>2.734</td>\n",
       "      <td>-0.339</td>\n",
       "      <td>0.216</td>\n",
       "      <td>-1.962</td>\n",
       "      <td>0.133</td>\n",
       "      <td>0.431</td>\n",
       "    </tr>\n",
       "  </tbody>\n",
       "</table>\n",
       "</div>"
      ],
      "text/plain": [
       "                Y    x_0    x_1    x_2    x_3    x_4\n",
       "2017-12-26  3.471 -0.231  0.706  0.089  1.204 -0.094\n",
       "2017-12-27 -0.493  0.670  0.559 -0.194  0.026 -0.165\n",
       "2017-12-28 -1.981 -0.869  1.725  0.051 -0.288  0.052\n",
       "2017-12-29 -0.019 -1.366  0.139 -0.329 -0.537  0.174\n",
       "2017-12-30 -2.911 -0.362  5.499  4.252  0.178 -0.647\n",
       "2017-12-31  2.146 -1.781 -0.312 -0.080 -0.719 -0.647\n",
       "2018-01-01 -0.953  0.859  0.582  1.046  0.592 -0.647\n",
       "2018-01-02  2.243 -0.291  0.320  3.138  0.160 -0.647\n",
       "2018-01-03  0.252  1.744  0.305  1.636  1.730  0.931\n",
       "2018-01-04  0.532 -0.716  2.518  5.640  1.017  0.708\n",
       "2018-01-05  2.734 -0.339  0.216 -1.962  0.133  0.431"
      ]
     },
     "metadata": {},
     "output_type": "display_data"
    }
   ],
   "source": [
    "display_df_as_feat_matrix(df_model, \n",
    "                          start=pd.to_datetime('12/26/2017'),\n",
    "                          end=pd.to_datetime('1/5/2018'),\n",
    "                          ycol=y_asset)"
   ]
  },
  {
   "cell_type": "markdown",
   "metadata": {},
   "source": [
    "### Illustrating Changes in Return Characteristics"
   ]
  },
  {
   "cell_type": "code",
   "execution_count": 29,
   "metadata": {},
   "outputs": [],
   "source": [
    "N_WINDOW = 30  # number of days to use in rolling window\n",
    "CRYPTO = 'btc'"
   ]
  },
  {
   "cell_type": "code",
   "execution_count": 46,
   "metadata": {},
   "outputs": [
    {
     "data": {
      "image/png": "[encoded data removed]",
      "text/plain": [
       "<matplotlib.figure.Figure at 0x67c4a2e898>"
      ]
     },
     "metadata": {},
     "output_type": "display_data"
    }
   ],
   "source": [
    "# Change in rolling mean over time.\n",
    "\n",
    "title = '{0}: {1}-day moving-average daily returns'.format(CRYPTO, N_WINDOW)\n",
    "savepath = 'plots/ma_returns_mean_{}'.format(CRYPTO)\n",
    "plt.plot(df_raw[CRYPTO].rolling(window=N_WINDOW).mean())\n",
    "plt.xticks(XTICKS_SIMPLE)\n",
    "plt.title(title)\n",
    "plt.ylabel('MA Daily Return');\n",
    "if SAVE_FIGS:\n",
    "    plt.savefig(savepath)"
   ]
  },
  {
   "cell_type": "code",
   "execution_count": 47,
   "metadata": {},
   "outputs": [
    {
     "data": {
      "image/png": "[encoded data removed]",
      "text/plain": [
       "<matplotlib.figure.Figure at 0x67c354b0f0>"
      ]
     },
     "metadata": {},
     "output_type": "display_data"
    }
   ],
   "source": [
    "# Change in rolling standard deviation over time.\n",
    "\n",
    "title = '{0}: {1}-day rolling $\\sigma$'.format(CRYPTO, N_WINDOW)\n",
    "savepath = 'plots/ma_returns_std_{}'.format(CRYPTO)\n",
    "plt.plot(df_raw[CRYPTO].rolling(window=N_WINDOW).std())\n",
    "plt.xticks(XTICKS_SIMPLE)\n",
    "plt.title(title)\n",
    "plt.ylabel('$\\sigma$');\n",
    "if SAVE_FIGS:\n",
    "    plt.savefig(savepath)"
   ]
  },
  {
   "cell_type": "code",
   "execution_count": 41,
   "metadata": {},
   "outputs": [],
   "source": []
  },
  {
   "cell_type": "code",
   "execution_count": null,
   "metadata": {},
   "outputs": [],
   "source": []
  }
 ],
 "metadata": {
  "kernelspec": {
   "display_name": "Python 3",
   "language": "python",
   "name": "python3"
  },
  "language_info": {
   "codemirror_mode": {
    "name": "ipython",
    "version": 3
   },
   "file_extension": ".py",
   "mimetype": "text/x-python",
   "name": "python",
   "nbconvert_exporter": "python",
   "pygments_lexer": "ipython3",
   "version": "3.5.2"
  }
 },
 "nbformat": 4,
 "nbformat_minor": 2
}
